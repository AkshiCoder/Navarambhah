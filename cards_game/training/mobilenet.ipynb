{
  "nbformat": 4,
  "nbformat_minor": 0,
  "metadata": {
    "colab": {
      "provenance": []
    },
    "kernelspec": {
      "name": "python3",
      "display_name": "Python 3"
    },
    "language_info": {
      "name": "python"
    }
  },
  "cells": [
    {
      "cell_type": "code",
      "execution_count": null,
      "metadata": {
        "id": "NfaXmMFqfMHI"
      },
      "outputs": [],
      "source": [
        "%%bash\n",
        "mkdir ~/.kaggle\n",
        "cp kaggle.json ~/.kaggle/\n",
        "chmod 600 ~/.kaggle/kaggle.json\n",
        "kaggle datasets download  gpiosenka/cards-image-datasetclassification\n"
      ]
    },
    {
      "cell_type": "code",
      "source": [
        "!unzip /content/cards-image-datasetclassification.zip"
      ],
      "metadata": {
        "id": "0uZPhiEffreH"
      },
      "execution_count": null,
      "outputs": []
    },
    {
      "cell_type": "code",
      "source": [
        "import os\n",
        "import re\n",
        "from matplotlib import pyplot as plt\n",
        "import tensorflow as tf                                                         # load tensorflow\n",
        "import tensorflow_datasets as tfds                                              # tensorflow datasets\n",
        "import pandas as pd"
      ],
      "metadata": {
        "id": "d7enU-i4fz6-"
      },
      "execution_count": 9,
      "outputs": []
    },
    {
      "cell_type": "code",
      "source": [
        "# load dataset - train, test and valid\n",
        "train=tf.keras.utils.image_dataset_from_directory('train',labels='inferred',label_mode='int',class_names=None,color_mode='rgb',\n",
        "                                                  batch_size=32,image_size=(256,256),shuffle=True,validation_split=0.3,\n",
        "                                                  interpolation='bilinear',subset='training',seed=8,)\n",
        "valid=tf.keras.utils.image_dataset_from_directory('train',labels='inferred',label_mode='int',class_names=None,color_mode='rgb',\n",
        "                                                  batch_size=32,image_size=(256,256),shuffle=True,validation_split=0.3,\n",
        "                                                  interpolation='bilinear',subset='validation',seed=8,)\n",
        "test=tf.keras.utils.image_dataset_from_directory('test',labels='inferred',label_mode='int',class_names=None,color_mode='rgb',\n",
        "                                                 batch_size=32,image_size=(256,256),shuffle=False,validation_split=0.0,\n",
        "                                                 interpolation='bilinear',subset=None,seed=8,)\n",
        "print('Total training images:',train.cardinality()*32)\n",
        "print('Total validation images:',valid.cardinality()*32)\n",
        "print('Total test images:',test.cardinality()*32)\n",
        "training_classes:list=train.class_names\n",
        "valid_classses:list=valid.class_names\n",
        "test_classes:list=test.class_names\n",
        "assert training_classes==valid_classses==test_classes,'class count in train, valid and test set is not same'\n",
        "print('Class names:',training_classes)"
      ],
      "metadata": {
        "id": "19cgFPeRf19o"
      },
      "execution_count": null,
      "outputs": []
    },
    {
      "cell_type": "code",
      "source": [
        "# make plot data training data\n",
        "for images,labels in train.take(1):break                                        # get a batch of data\n",
        "images_to_plot:int=6                                                            # number of images to plot\n",
        "plt.figure(figsize=(7,5))                                                     # figure size\n",
        "for index in range(images_to_plot):                                             # loop over image index\n",
        "  plt.subplot(3,3,index+1)                                                      # subplot rows = 3, columns = 3\n",
        "  plt.imshow(images[index].numpy().astype('uint8'))                             # make plot image\n",
        "  plt.axis('off')                                                               # make axis off\n",
        "  plt.title(training_classes[labels[index].numpy()])                            # make add labels as class names\n",
        "plt.tight_layout()                                                              # adjust layout space\n",
        "plt.show()                                                                      # make plot show"
      ],
      "metadata": {
        "id": "4lUjJ1IPf6zd"
      },
      "execution_count": null,
      "outputs": []
    },
    {
      "cell_type": "code",
      "source": [
        "base_model=tf.keras.applications.VGG16(input_shape=(299,299,3),include_top=False,\n",
        "                                               weights='imagenet',input_tensor=None,pooling=None,classes=1000,\n",
        "                                               classifier_activation='softmax')"
      ],
      "metadata": {
        "id": "XVAlVIQ6f-x5"
      },
      "execution_count": null,
      "outputs": []
    },
    {
      "cell_type": "code",
      "source": [
        "inputs=tf.keras.layers.Input(shape=(299,299,3),batch_size=None,name='model_inputs')# add input layer\n",
        "model_x=tf.keras.layers.Rescaling(1/255,offset=0.0,name='rescaler')(inputs)     # rescale inputs\n",
        "model_x=base_model(model_x)                                                     # feed inputs to base model\n",
        "model_x=tf.keras.layers.Flatten(name='flatten')(model_x)                         # make flatten outputs\n",
        "model_x=tf.keras.layers.Dense(1024,activation='relu')(model_x)                  # apply dense layer\n",
        "outputs=tf.keras.layers.Dense(len(training_classes),activation='softmax')(model_x)# output layer\n",
        "model=tf.keras.Model(inputs=[inputs],outputs=[outputs],name='custom_mobilenetv2')     # build model\n",
        "model.summary(line_length=120,positions=None,print_fn=None,expand_nested=True,show_trainable=True,layer_range=None)# print model summary"
      ],
      "metadata": {
        "id": "c5VnfD2jgDa5"
      },
      "execution_count": null,
      "outputs": []
    },
    {
      "cell_type": "code",
      "source": [
        "random_flip=tf.keras.layers.RandomFlip('horizontal_and_vertical',name='random_flip')# random flip layer\n",
        "random_zoom=tf.keras.layers.RandomZoom(height_factor=0.1,width_factor=0.1,name='random_zoom')# random zoom layer\n",
        "random_rotate=tf.keras.layers.RandomRotation(0.3,name='random_rotate')          # random rotate layers\n",
        "random_brightness=tf.keras.layers.RandomBrightness(0.3,value_range=(0.0,255.0),name='random_brightness')# random brightness layer\n",
        "augmentations=[random_flip,random_zoom,random_rotate,random_brightness]         # make list of data augmentation\n",
        "resizer=tf.keras.layers.Resizing(299,299,interpolation='nearest',name='rescaler')\n",
        "# make apply augmentation on training data\n",
        "for augmentation in augmentations:\n",
        "  train.map(lambda images,labels: (augmentation(images),labels))                # make apply augmentation\n",
        "train=train.map(lambda images,labels: (resizer(images),labels))\n",
        "valid=valid.map(lambda images,labels: (resizer(images),labels))\n",
        "test=test.map(lambda images,labels: (resizer(images),labels))"
      ],
      "metadata": {
        "id": "lJD84yOsgEgI"
      },
      "execution_count": 14,
      "outputs": []
    },
    {
      "cell_type": "code",
      "source": [
        "# make compile model\n",
        "model.compile(optimizer=tf.keras.optimizers.Adam(learning_rate=0.001),loss=tf.keras.losses.SparseCategoricalCrossentropy(),\n",
        "              metrics=tf.keras.metrics.SparseCategoricalAccuracy())"
      ],
      "metadata": {
        "id": "RB7raIOxgJmA"
      },
      "execution_count": 15,
      "outputs": []
    },
    {
      "cell_type": "code",
      "source": [
        "# make early stopping\n",
        "early_stop=tf.keras.callbacks.EarlyStopping(monitor='val_sparse_categorical_accuracy',min_delta=0,patience=10,verbose=1,mode='auto',restore_best_weights=True)\n",
        "\n",
        "# make train model\n",
        "history=model.fit(train,batch_size=128,epochs=10_000,verbose=2,callbacks=[early_stop],validation_split=0,validation_data=valid,\n",
        "                  shuffle=True)"
      ],
      "metadata": {
        "id": "WQLkfnwjgKah"
      },
      "execution_count": null,
      "outputs": []
    },
    {
      "cell_type": "code",
      "source": [
        "# see model history (first five epoches)\n",
        "pd.DataFrame(history.history).head()"
      ],
      "metadata": {
        "id": "1BgXLog9gM4f"
      },
      "execution_count": null,
      "outputs": []
    },
    {
      "cell_type": "code",
      "source": [
        "# see model history (last five epoches)\n",
        "pd.DataFrame(history.history).tail()"
      ],
      "metadata": {
        "id": "M1cHoNLsgQlA"
      },
      "execution_count": null,
      "outputs": []
    },
    {
      "cell_type": "code",
      "source": [
        "# make plot training accuracy and validation accuracy\n",
        "pd.DataFrame(history.history)[['sparse_categorical_accuracy','val_sparse_categorical_accuracy']].plot(marker='.')# make plot\n",
        "plt.grid(),plt.title('Training Accuracy'),plt.xlabel('epochs'),plt.ylabel('accuracy')# add grid, title and axis labels\n",
        "plt.show()                                                                      # make plot show"
      ],
      "metadata": {
        "id": "FPnkAhaKgSuV"
      },
      "execution_count": null,
      "outputs": []
    },
    {
      "cell_type": "code",
      "source": [
        "# evaluate model\n",
        "results=model.evaluate(test,batch_size=None,verbose=\"auto\",sample_weight=None,return_dict=True)\n",
        "print('Testing results:',results)                                               # make print results                                    # make plot show"
      ],
      "metadata": {
        "id": "UpumyKVAgVSo"
      },
      "execution_count": null,
      "outputs": []
    },
    {
      "cell_type": "code",
      "source": [
        "model.save('mobilenet_play_cards',overwrite=True,save_format=None)               # make save"
      ],
      "metadata": {
        "id": "SuohDwZLgXcG"
      },
      "execution_count": null,
      "outputs": []
    },
    {
      "cell_type": "code",
      "source": [
        "!zip -r -qq \"mobilenet_play_cards\" \"rps\"                     # make zip model\n",
        "# make auto download model weights\n",
        "from google.colab import files                                                  # load file class\n",
        "files.download('mobilenet_play_cards')                                       # download model zip file"
      ],
      "metadata": {
        "id": "H4CY-Kn6gZG_"
      },
      "execution_count": null,
      "outputs": []
    }
  ]
}
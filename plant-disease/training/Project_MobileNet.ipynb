{
  "cells": [
    {
      "cell_type": "code",
      "execution_count": null,
      "metadata": {
        "colab": {
          "base_uri": "https://localhost:8080/"
        },
        "id": "zAjO_vARTvSO",
        "outputId": "951845cd-aba3-40fc-c453-0270bcaed5e6"
      },
      "outputs": [
        {
          "name": "stdout",
          "output_type": "stream",
          "text": [
            "Requirement already satisfied: kaggle in /usr/local/lib/python3.10/dist-packages (1.5.15)\n",
            "Requirement already satisfied: six>=1.10 in /usr/local/lib/python3.10/dist-packages (from kaggle) (1.16.0)\n",
            "Requirement already satisfied: certifi in /usr/local/lib/python3.10/dist-packages (from kaggle) (2023.5.7)\n",
            "Requirement already satisfied: python-dateutil in /usr/local/lib/python3.10/dist-packages (from kaggle) (2.8.2)\n",
            "Requirement already satisfied: requests in /usr/local/lib/python3.10/dist-packages (from kaggle) (2.27.1)\n",
            "Requirement already satisfied: tqdm in /usr/local/lib/python3.10/dist-packages (from kaggle) (4.65.0)\n",
            "Requirement already satisfied: python-slugify in /usr/local/lib/python3.10/dist-packages (from kaggle) (8.0.1)\n",
            "Requirement already satisfied: urllib3 in /usr/local/lib/python3.10/dist-packages (from kaggle) (1.26.16)\n",
            "Requirement already satisfied: bleach in /usr/local/lib/python3.10/dist-packages (from kaggle) (6.0.0)\n",
            "Requirement already satisfied: webencodings in /usr/local/lib/python3.10/dist-packages (from bleach->kaggle) (0.5.1)\n",
            "Requirement already satisfied: text-unidecode>=1.3 in /usr/local/lib/python3.10/dist-packages (from python-slugify->kaggle) (1.3)\n",
            "Requirement already satisfied: charset-normalizer~=2.0.0 in /usr/local/lib/python3.10/dist-packages (from requests->kaggle) (2.0.12)\n",
            "Requirement already satisfied: idna<4,>=2.5 in /usr/local/lib/python3.10/dist-packages (from requests->kaggle) (3.4)\n"
          ]
        }
      ],
      "source": [
        "!pip install kaggle\n"
      ]
    },
    {
      "cell_type": "code",
      "execution_count": null,
      "metadata": {
        "colab": {
          "base_uri": "https://localhost:8080/"
        },
        "id": "j_N0Ts0lUGdC",
        "outputId": "88b6cea7-c499-4df2-8c9d-84f81d71400f"
      },
      "outputs": [
        {
          "name": "stdout",
          "output_type": "stream",
          "text": [
            "Downloading plant-disease-recognition-dataset.zip to /content\n",
            "... resuming from 498073600 bytes (841550418 bytes left) ...\n",
            "\n"
          ]
        },
        {
          "name": "stderr",
          "output_type": "stream",
          "text": [
            "mkdir: cannot create directory ‘/root/.kaggle’: File exists\n",
            "\r 37%|███▋      | 475M/1.25G [00:00<?, ?B/s]\r 38%|███▊      | 487M/1.25G [00:00<00:06, 120MB/s]\r 39%|███▉      | 499M/1.25G [00:00<00:06, 123MB/s]\r 40%|████      | 513M/1.25G [00:00<00:08, 91.0MB/s]\r 42%|████▏     | 537M/1.25G [00:00<00:05, 138MB/s] \r 43%|████▎     | 553M/1.25G [00:01<00:12, 61.6MB/s]\r 45%|████▌     | 576M/1.25G [00:01<00:08, 88.6MB/s]\r 46%|████▋     | 591M/1.25G [00:01<00:08, 85.0MB/s]\r 47%|████▋     | 606M/1.25G [00:01<00:07, 97.6MB/s]\r 49%|████▊     | 620M/1.25G [00:01<00:06, 107MB/s] \r 50%|████▉     | 634M/1.25G [00:01<00:05, 114MB/s]\r 52%|█████▏    | 659M/1.25G [00:01<00:04, 148MB/s]\r 53%|█████▎    | 683M/1.25G [00:01<00:03, 174MB/s]\r 55%|█████▍    | 702M/1.25G [00:02<00:03, 173MB/s]\r 57%|█████▋    | 729M/1.25G [00:02<00:03, 146MB/s]\r 59%|█████▉    | 758M/1.25G [00:02<00:03, 179MB/s]\r 61%|██████    | 778M/1.25G [00:02<00:03, 161MB/s]\r 62%|██████▏   | 796M/1.25G [00:02<00:03, 162MB/s]\r 64%|██████▎   | 813M/1.25G [00:02<00:03, 156MB/s]\r 65%|██████▌   | 835M/1.25G [00:02<00:02, 172MB/s]\r 67%|██████▋   | 854M/1.25G [00:02<00:02, 178MB/s]\r 69%|██████▊   | 878M/1.25G [00:03<00:02, 196MB/s]\r 70%|███████   | 898M/1.25G [00:03<00:02, 188MB/s]\r 72%|███████▏  | 917M/1.25G [00:03<00:02, 158MB/s]\r 73%|███████▎  | 938M/1.25G [00:03<00:02, 172MB/s]\r 75%|███████▌  | 963M/1.25G [00:03<00:01, 192MB/s]\r 77%|███████▋  | 983M/1.25G [00:03<00:01, 166MB/s]\r 79%|███████▉  | 0.98G/1.25G [00:03<00:01, 188MB/s]\r 80%|████████  | 1.00G/1.25G [00:04<00:01, 164MB/s]\r 82%|████████▏ | 1.02G/1.25G [00:04<00:01, 172MB/s]\r 83%|████████▎ | 1.04G/1.25G [00:04<00:01, 177MB/s]\r 85%|████████▍ | 1.06G/1.25G [00:04<00:01, 180MB/s]\r 86%|████████▋ | 1.08G/1.25G [00:04<00:01, 180MB/s]\r 88%|████████▊ | 1.09G/1.25G [00:06<00:04, 34.9MB/s]\r 89%|████████▊ | 1.11G/1.25G [00:06<00:04, 36.5MB/s]\r 90%|████████▉ | 1.12G/1.25G [00:06<00:03, 41.0MB/s]\r 90%|█████████ | 1.13G/1.25G [00:06<00:02, 46.8MB/s]\r 91%|█████████▏| 1.14G/1.25G [00:06<00:02, 55.9MB/s]\r 92%|█████████▏| 1.15G/1.25G [00:06<00:01, 60.5MB/s]\r 93%|█████████▎| 1.16G/1.25G [00:07<00:01, 64.7MB/s]\r 94%|█████████▎| 1.17G/1.25G [00:07<00:01, 63.3MB/s]\r 94%|█████████▍| 1.17G/1.25G [00:07<00:01, 62.6MB/s]\r 95%|█████████▍| 1.18G/1.25G [00:07<00:01, 58.9MB/s]\r 95%|█████████▌| 1.19G/1.25G [00:07<00:01, 60.4MB/s]\r 96%|█████████▌| 1.20G/1.25G [00:07<00:00, 61.2MB/s]\r 97%|█████████▋| 1.20G/1.25G [00:07<00:00, 62.6MB/s]\r 97%|█████████▋| 1.21G/1.25G [00:08<00:00, 54.2MB/s]\r 98%|█████████▊| 1.22G/1.25G [00:08<00:00, 45.2MB/s]\r 98%|█████████▊| 1.22G/1.25G [00:08<00:00, 42.3MB/s]\r 98%|█████████▊| 1.23G/1.25G [00:08<00:00, 46.2MB/s]\r 99%|█████████▉| 1.23G/1.25G [00:08<00:00, 46.9MB/s]\r 99%|█████████▉| 1.24G/1.25G [00:08<00:00, 50.4MB/s]\r100%|█████████▉| 1.25G/1.25G [00:08<00:00, 57.4MB/s]\r100%|██████████| 1.25G/1.25G [00:08<00:00, 95.3MB/s]\n"
          ]
        }
      ],
      "source": [
        "%%bash\n",
        "mkdir ~/.kaggle\n",
        "cp kaggle.json ~/.kaggle/\n",
        "chmod 600 ~/.kaggle/kaggle.json\n",
        "kaggle datasets download rashikrahmanpritom/plant-disease-recognition-dataset\n",
        "unzip -qq \"plant-disease-recognition-dataset.zip\"\n"
      ]
    },
    {
      "cell_type": "code",
      "execution_count": null,
      "metadata": {
        "id": "kDtSsoUEWfig"
      },
      "outputs": [],
      "source": [
        "import numpy as np\n",
        "import pandas as pd\n",
        "import tensorflow as tf\n",
        "import tensorflow_datasets as tfds\n",
        "import os\n",
        "import re\n",
        "import matplotlib.pyplot as plt"
      ]
    },
    {
      "cell_type": "code",
      "execution_count": null,
      "metadata": {
        "colab": {
          "base_uri": "https://localhost:8080/"
        },
        "id": "LsiMyAcFWfoH",
        "outputId": "e38b501b-a892-4048-e753-67ef7d24df20"
      },
      "outputs": [
        {
          "name": "stdout",
          "output_type": "stream",
          "text": [
            "Found 1322 files belonging to 1 classes.\n",
            "Using 926 files for training.\n",
            "Found 60 files belonging to 1 classes.\n",
            "Using 18 files for validation.\n",
            "Found 150 files belonging to 1 classes.\n",
            "Total training images: tf.Tensor(928, shape=(), dtype=int64)\n",
            "Total validation images: tf.Tensor(32, shape=(), dtype=int64)\n",
            "Total test images: tf.Tensor(160, shape=(), dtype=int64)\n",
            "Class names: ['Train']\n"
          ]
        }
      ],
      "source": [
        "# load dataset - train, test and valid\n",
        "train=tf.keras.utils.image_dataset_from_directory('train',labels='inferred',label_mode='int',class_names=None,color_mode='rgb',\n",
        "                                                  batch_size=32,image_size=(256,256),shuffle=True,validation_split=0.3,\n",
        "                                                  interpolation='bilinear',subset='training',seed=8,)\n",
        "valid=tf.keras.utils.image_dataset_from_directory('valid',labels='inferred',label_mode='int',class_names=None,color_mode='rgb',\n",
        "                                                  batch_size=32,image_size=(256,256),shuffle=True,validation_split=0.3,\n",
        "                                                  interpolation='bilinear',subset='validation',seed=8,)\n",
        "test=tf.keras.utils.image_dataset_from_directory('test',labels='inferred',label_mode='int',class_names=None,color_mode='rgb',\n",
        "                                                 batch_size=32,image_size=(256,256),shuffle=False,validation_split=0.0,\n",
        "                                                 interpolation='bilinear',subset=None,seed=8,)\n",
        "print('Total training images:',train.cardinality()*32)\n",
        "print('Total validation images:',valid.cardinality()*32)\n",
        "print('Total test images:',test.cardinality()*32)\n",
        "training_classes:list=train.class_names\n",
        "valid_classses:list=valid.class_names\n",
        "test_classes:list=test.class_names\n",
        "#assert training_classes==valid_classses==test_classes,'class count in train, valid and test set is not same'\n",
        "print('Class names:',training_classes)"
      ]
    },
    {
      "cell_type": "code",
      "execution_count": null,
      "metadata": {
        "colab": {
          "base_uri": "https://localhost:8080/",
          "height": 741
        },
        "id": "aexyBbCXWftf",
        "outputId": "4aa35937-83a3-4d15-828d-a8710aa0bac0"
      },
      "outputs": [],
      "source": [
        "# make plot data training data\n",
        "for images,labels in train.take(1):break                                        # get a batch of data\n",
        "images_to_plot:int=6                                                            # number of images to plot\n",
        "plt.figure(figsize=(15,15))                                                     # figure size\n",
        "for index in range(images_to_plot):                                             # loop over image index\n",
        "  plt.subplot(3,3,index+1)                                                      # subplot rows = 3, columns = 3\n",
        "  plt.imshow(images[index].numpy().astype('uint8'))                             # make plot image\n",
        "  plt.axis('off')                                                               # make axis off\n",
        "  plt.title(training_classes[labels[index].numpy()])                            # make add labels as class names\n",
        "plt.tight_layout()                                                              # adjust layout space\n",
        "plt.show()"
      ]
    },
    {
      "cell_type": "code",
      "execution_count": null,
      "metadata": {
        "colab": {
          "base_uri": "https://localhost:8080/"
        },
        "id": "X7VUf-1dWfy4",
        "outputId": "29ea14ee-477c-46e3-f9c6-ca51931d1c97"
      },
      "outputs": [
        {
          "name": "stdout",
          "output_type": "stream",
          "text": [
            "Maximum pixel values: tf.Tensor(255.0, shape=(), dtype=float32)\n",
            "Minimum pixel values: tf.Tensor(0.0, shape=(), dtype=float32)\n",
            "Object type of inputs (X): <class 'tensorflow.python.framework.ops.EagerTensor'>\n",
            "Data type in inputs (X): <dtype: 'float32'>\n",
            "Object type of outputs (y): <class 'tensorflow.python.framework.ops.EagerTensor'>\n",
            "Data type in outputs (X): <dtype: 'int32'>\n"
          ]
        }
      ],
      "source": [
        "print('Maximum pixel values:',tf.reduce_max(images))                            # maximum pixel values in inputs\n",
        "print('Minimum pixel values:',tf.reduce_min(images))                            # minimum pixel values in inputs\n",
        "print('Object type of inputs (X):',type(images))                                # input types\n",
        "print('Data type in inputs (X):',images.dtype)                                  # data type in inputs\n",
        "print('Object type of outputs (y):',type(labels))                               # output types\n",
        "print('Data type in outputs (X):',labels.dtype)"
      ]
    },
    {
      "cell_type": "code",
      "execution_count": null,
      "metadata": {
        "id": "ymLeOz0EWf4m"
      },
      "outputs": [],
      "source": [
        "# make apply data augmentation to data (add more randomness to data)\n",
        "# source: https://www.tensorflow.org/tutorials/images/data_augmentation\n",
        "random_flip=tf.keras.layers.RandomFlip('horizontal_and_vertical',name='random_flip')# random flip layer\n",
        "random_zoom=tf.keras.layers.RandomZoom(height_factor=0.1,width_factor=0.1,name='random_zoom')# random zoom layer\n",
        "random_rotate=tf.keras.layers.RandomRotation(0.3,name='random_rotate')          # random rotate layers\n",
        "random_brightness=tf.keras.layers.RandomBrightness(0.3,value_range=(0.0,255.0),name='random_brightness')# random brightness layer\n",
        "augmentations=[random_flip,random_zoom,random_rotate,random_brightness]         # make list of data augmentation\n",
        "resizer=tf.keras.layers.Resizing(160,160,interpolation='nearest',name='rescaler')\n",
        "# make apply augmentation on training data\n",
        "for augmentation in augmentations:\n",
        "  train.map(lambda images,labels: (augmentation(images),labels))                                          # make apply augmentation\n",
        "train=train.map(lambda images,labels: (resizer(images),labels))\n",
        "valid=valid.map(lambda images,labels: (resizer(images),labels))\n",
        "test=test.map(lambda images,labels: (resizer(images),labels))"
      ]
    },
    {
      "cell_type": "code",
      "execution_count": null,
      "metadata": {
        "id": "QqGOyC7kWf9-"
      },
      "outputs": [],
      "source": [
        "base_model=tf.keras.applications.MobileNetV2(include_top=False,weights='imagenet',input_shape=(160,160,3))  # laod base model - VGG16\n",
        "#base_model.summary(line_length=120,positions=None,print_fn=None,expand_nested=True,show_trainable=False,layer_range=None)# print base model summary\n",
        "base_model.trainable=False                                                                            # make freeze base"
      ]
    },
    {
      "cell_type": "code",
      "execution_count": null,
      "metadata": {
        "colab": {
          "base_uri": "https://localhost:8080/"
        },
        "id": "4I58I4V_WgDa",
        "outputId": "cac055c0-a37a-4b2f-f3cd-a34b683bd226"
      },
      "outputs": [
        {
          "name": "stdout",
          "output_type": "stream",
          "text": [
            "Model: \"custom_vgg16\"\n",
            "___________________________________________________________________________________________________________________________________\n",
            " Layer (type)                                         Output Shape                                    Param #           Trainable  \n",
            "===================================================================================================================================\n",
            " model_inputs (InputLayer)                            [(None, 160, 160, 3)]                           0                 Y          \n",
            "                                                                                                                                   \n",
            " rescaler (Rescaling)                                 (None, 160, 160, 3)                             0                 Y          \n",
            "                                                                                                                                   \n",
            " mobilenetv2_1.00_160 (Functional)                    (None, 5, 5, 1280)                              2257984           N          \n",
            "|¯¯¯¯¯¯¯¯¯¯¯¯¯¯¯¯¯¯¯¯¯¯¯¯¯¯¯¯¯¯¯¯¯¯¯¯¯¯¯¯¯¯¯¯¯¯¯¯¯¯¯¯¯¯¯¯¯¯¯¯¯¯¯¯¯¯¯¯¯¯¯¯¯¯¯¯¯¯¯¯¯¯¯¯¯¯¯¯¯¯¯¯¯¯¯¯¯¯¯¯¯¯¯¯¯¯¯¯¯¯¯¯¯¯¯¯¯¯¯¯¯¯¯¯¯¯¯¯¯|\n",
            "| input_2 (InputLayer)                               [(None, 160, 160, 3)]                           0                 N          |\n",
            "|                                                                                                                                 |\n",
            "| Conv1 (Conv2D)                                     (None, 80, 80, 32)                              864               N          |\n",
            "|                                                                                                                                 |\n",
            "| bn_Conv1 (BatchNormalization)                      (None, 80, 80, 32)                              128               N          |\n",
            "|                                                                                                                                 |\n",
            "| Conv1_relu (ReLU)                                  (None, 80, 80, 32)                              0                 N          |\n",
            "|                                                                                                                                 |\n",
            "| expanded_conv_depthwise (DepthwiseConv2D)          (None, 80, 80, 32)                              288               N          |\n",
            "|                                                                                                                                 |\n",
            "| expanded_conv_depthwise_BN (BatchNormalization)    (None, 80, 80, 32)                              128               N          |\n",
            "|                                                                                                                                 |\n",
            "| expanded_conv_depthwise_relu (ReLU)                (None, 80, 80, 32)                              0                 N          |\n",
            "|                                                                                                                                 |\n",
            "| expanded_conv_project (Conv2D)                     (None, 80, 80, 16)                              512               N          |\n",
            "|                                                                                                                                 |\n",
            "| expanded_conv_project_BN (BatchNormalization)      (None, 80, 80, 16)                              64                N          |\n",
            "|                                                                                                                                 |\n",
            "| block_1_expand (Conv2D)                            (None, 80, 80, 96)                              1536              N          |\n",
            "|                                                                                                                                 |\n",
            "| block_1_expand_BN (BatchNormalization)             (None, 80, 80, 96)                              384               N          |\n",
            "|                                                                                                                                 |\n",
            "| block_1_expand_relu (ReLU)                         (None, 80, 80, 96)                              0                 N          |\n",
            "|                                                                                                                                 |\n",
            "| block_1_pad (ZeroPadding2D)                        (None, 81, 81, 96)                              0                 N          |\n",
            "|                                                                                                                                 |\n",
            "| block_1_depthwise (DepthwiseConv2D)                (None, 40, 40, 96)                              864               N          |\n",
            "|                                                                                                                                 |\n",
            "| block_1_depthwise_BN (BatchNormalization)          (None, 40, 40, 96)                              384               N          |\n",
            "|                                                                                                                                 |\n",
            "| block_1_depthwise_relu (ReLU)                      (None, 40, 40, 96)                              0                 N          |\n",
            "|                                                                                                                                 |\n",
            "| block_1_project (Conv2D)                           (None, 40, 40, 24)                              2304              N          |\n",
            "|                                                                                                                                 |\n",
            "| block_1_project_BN (BatchNormalization)            (None, 40, 40, 24)                              96                N          |\n",
            "|                                                                                                                                 |\n",
            "| block_2_expand (Conv2D)                            (None, 40, 40, 144)                             3456              N          |\n",
            "|                                                                                                                                 |\n",
            "| block_2_expand_BN (BatchNormalization)             (None, 40, 40, 144)                             576               N          |\n",
            "|                                                                                                                                 |\n",
            "| block_2_expand_relu (ReLU)                         (None, 40, 40, 144)                             0                 N          |\n",
            "|                                                                                                                                 |\n",
            "| block_2_depthwise (DepthwiseConv2D)                (None, 40, 40, 144)                             1296              N          |\n",
            "|                                                                                                                                 |\n",
            "| block_2_depthwise_BN (BatchNormalization)          (None, 40, 40, 144)                             576               N          |\n",
            "|                                                                                                                                 |\n",
            "| block_2_depthwise_relu (ReLU)                      (None, 40, 40, 144)                             0                 N          |\n",
            "|                                                                                                                                 |\n",
            "| block_2_project (Conv2D)                           (None, 40, 40, 24)                              3456              N          |\n",
            "|                                                                                                                                 |\n",
            "| block_2_project_BN (BatchNormalization)            (None, 40, 40, 24)                              96                N          |\n",
            "|                                                                                                                                 |\n",
            "| block_2_add (Add)                                  (None, 40, 40, 24)                              0                 N          |\n",
            "|                                                                                                                                 |\n",
            "| block_3_expand (Conv2D)                            (None, 40, 40, 144)                             3456              N          |\n",
            "|                                                                                                                                 |\n",
            "| block_3_expand_BN (BatchNormalization)             (None, 40, 40, 144)                             576               N          |\n",
            "|                                                                                                                                 |\n",
            "| block_3_expand_relu (ReLU)                         (None, 40, 40, 144)                             0                 N          |\n",
            "|                                                                                                                                 |\n",
            "| block_3_pad (ZeroPadding2D)                        (None, 41, 41, 144)                             0                 N          |\n",
            "|                                                                                                                                 |\n",
            "| block_3_depthwise (DepthwiseConv2D)                (None, 20, 20, 144)                             1296              N          |\n",
            "|                                                                                                                                 |\n",
            "| block_3_depthwise_BN (BatchNormalization)          (None, 20, 20, 144)                             576               N          |\n",
            "|                                                                                                                                 |\n",
            "| block_3_depthwise_relu (ReLU)                      (None, 20, 20, 144)                             0                 N          |\n",
            "|                                                                                                                                 |\n",
            "| block_3_project (Conv2D)                           (None, 20, 20, 32)                              4608              N          |\n",
            "|                                                                                                                                 |\n",
            "| block_3_project_BN (BatchNormalization)            (None, 20, 20, 32)                              128               N          |\n",
            "|                                                                                                                                 |\n",
            "| block_4_expand (Conv2D)                            (None, 20, 20, 192)                             6144              N          |\n",
            "|                                                                                                                                 |\n",
            "| block_4_expand_BN (BatchNormalization)             (None, 20, 20, 192)                             768               N          |\n",
            "|                                                                                                                                 |\n",
            "| block_4_expand_relu (ReLU)                         (None, 20, 20, 192)                             0                 N          |\n",
            "|                                                                                                                                 |\n",
            "| block_4_depthwise (DepthwiseConv2D)                (None, 20, 20, 192)                             1728              N          |\n",
            "|                                                                                                                                 |\n",
            "| block_4_depthwise_BN (BatchNormalization)          (None, 20, 20, 192)                             768               N          |\n",
            "|                                                                                                                                 |\n",
            "| block_4_depthwise_relu (ReLU)                      (None, 20, 20, 192)                             0                 N          |\n",
            "|                                                                                                                                 |\n",
            "| block_4_project (Conv2D)                           (None, 20, 20, 32)                              6144              N          |\n",
            "|                                                                                                                                 |\n",
            "| block_4_project_BN (BatchNormalization)            (None, 20, 20, 32)                              128               N          |\n",
            "|                                                                                                                                 |\n",
            "| block_4_add (Add)                                  (None, 20, 20, 32)                              0                 N          |\n",
            "|                                                                                                                                 |\n",
            "| block_5_expand (Conv2D)                            (None, 20, 20, 192)                             6144              N          |\n",
            "|                                                                                                                                 |\n",
            "| block_5_expand_BN (BatchNormalization)             (None, 20, 20, 192)                             768               N          |\n",
            "|                                                                                                                                 |\n",
            "| block_5_expand_relu (ReLU)                         (None, 20, 20, 192)                             0                 N          |\n",
            "|                                                                                                                                 |\n",
            "| block_5_depthwise (DepthwiseConv2D)                (None, 20, 20, 192)                             1728              N          |\n",
            "|                                                                                                                                 |\n",
            "| block_5_depthwise_BN (BatchNormalization)          (None, 20, 20, 192)                             768               N          |\n",
            "|                                                                                                                                 |\n",
            "| block_5_depthwise_relu (ReLU)                      (None, 20, 20, 192)                             0                 N          |\n",
            "|                                                                                                                                 |\n",
            "| block_5_project (Conv2D)                           (None, 20, 20, 32)                              6144              N          |\n",
            "|                                                                                                                                 |\n",
            "| block_5_project_BN (BatchNormalization)            (None, 20, 20, 32)                              128               N          |\n",
            "|                                                                                                                                 |\n",
            "| block_5_add (Add)                                  (None, 20, 20, 32)                              0                 N          |\n",
            "|                                                                                                                                 |\n",
            "| block_6_expand (Conv2D)                            (None, 20, 20, 192)                             6144              N          |\n",
            "|                                                                                                                                 |\n",
            "| block_6_expand_BN (BatchNormalization)             (None, 20, 20, 192)                             768               N          |\n",
            "|                                                                                                                                 |\n",
            "| block_6_expand_relu (ReLU)                         (None, 20, 20, 192)                             0                 N          |\n",
            "|                                                                                                                                 |\n",
            "| block_6_pad (ZeroPadding2D)                        (None, 21, 21, 192)                             0                 N          |\n",
            "|                                                                                                                                 |\n",
            "| block_6_depthwise (DepthwiseConv2D)                (None, 10, 10, 192)                             1728              N          |\n",
            "|                                                                                                                                 |\n",
            "| block_6_depthwise_BN (BatchNormalization)          (None, 10, 10, 192)                             768               N          |\n",
            "|                                                                                                                                 |\n",
            "| block_6_depthwise_relu (ReLU)                      (None, 10, 10, 192)                             0                 N          |\n",
            "|                                                                                                                                 |\n",
            "| block_6_project (Conv2D)                           (None, 10, 10, 64)                              12288             N          |\n",
            "|                                                                                                                                 |\n",
            "| block_6_project_BN (BatchNormalization)            (None, 10, 10, 64)                              256               N          |\n",
            "|                                                                                                                                 |\n",
            "| block_7_expand (Conv2D)                            (None, 10, 10, 384)                             24576             N          |\n",
            "|                                                                                                                                 |\n",
            "| block_7_expand_BN (BatchNormalization)             (None, 10, 10, 384)                             1536              N          |\n",
            "|                                                                                                                                 |\n",
            "| block_7_expand_relu (ReLU)                         (None, 10, 10, 384)                             0                 N          |\n",
            "|                                                                                                                                 |\n",
            "| block_7_depthwise (DepthwiseConv2D)                (None, 10, 10, 384)                             3456              N          |\n",
            "|                                                                                                                                 |\n",
            "| block_7_depthwise_BN (BatchNormalization)          (None, 10, 10, 384)                             1536              N          |\n",
            "|                                                                                                                                 |\n",
            "| block_7_depthwise_relu (ReLU)                      (None, 10, 10, 384)                             0                 N          |\n",
            "|                                                                                                                                 |\n",
            "| block_7_project (Conv2D)                           (None, 10, 10, 64)                              24576             N          |\n",
            "|                                                                                                                                 |\n",
            "| block_7_project_BN (BatchNormalization)            (None, 10, 10, 64)                              256               N          |\n",
            "|                                                                                                                                 |\n",
            "| block_7_add (Add)                                  (None, 10, 10, 64)                              0                 N          |\n",
            "|                                                                                                                                 |\n",
            "| block_8_expand (Conv2D)                            (None, 10, 10, 384)                             24576             N          |\n",
            "|                                                                                                                                 |\n",
            "| block_8_expand_BN (BatchNormalization)             (None, 10, 10, 384)                             1536              N          |\n",
            "|                                                                                                                                 |\n",
            "| block_8_expand_relu (ReLU)                         (None, 10, 10, 384)                             0                 N          |\n",
            "|                                                                                                                                 |\n",
            "| block_8_depthwise (DepthwiseConv2D)                (None, 10, 10, 384)                             3456              N          |\n",
            "|                                                                                                                                 |\n",
            "| block_8_depthwise_BN (BatchNormalization)          (None, 10, 10, 384)                             1536              N          |\n",
            "|                                                                                                                                 |\n",
            "| block_8_depthwise_relu (ReLU)                      (None, 10, 10, 384)                             0                 N          |\n",
            "|                                                                                                                                 |\n",
            "| block_8_project (Conv2D)                           (None, 10, 10, 64)                              24576             N          |\n",
            "|                                                                                                                                 |\n",
            "| block_8_project_BN (BatchNormalization)            (None, 10, 10, 64)                              256               N          |\n",
            "|                                                                                                                                 |\n",
            "| block_8_add (Add)                                  (None, 10, 10, 64)                              0                 N          |\n",
            "|                                                                                                                                 |\n",
            "| block_9_expand (Conv2D)                            (None, 10, 10, 384)                             24576             N          |\n",
            "|                                                                                                                                 |\n",
            "| block_9_expand_BN (BatchNormalization)             (None, 10, 10, 384)                             1536              N          |\n",
            "|                                                                                                                                 |\n",
            "| block_9_expand_relu (ReLU)                         (None, 10, 10, 384)                             0                 N          |\n",
            "|                                                                                                                                 |\n",
            "| block_9_depthwise (DepthwiseConv2D)                (None, 10, 10, 384)                             3456              N          |\n",
            "|                                                                                                                                 |\n",
            "| block_9_depthwise_BN (BatchNormalization)          (None, 10, 10, 384)                             1536              N          |\n",
            "|                                                                                                                                 |\n",
            "| block_9_depthwise_relu (ReLU)                      (None, 10, 10, 384)                             0                 N          |\n",
            "|                                                                                                                                 |\n",
            "| block_9_project (Conv2D)                           (None, 10, 10, 64)                              24576             N          |\n",
            "|                                                                                                                                 |\n",
            "| block_9_project_BN (BatchNormalization)            (None, 10, 10, 64)                              256               N          |\n",
            "|                                                                                                                                 |\n",
            "| block_9_add (Add)                                  (None, 10, 10, 64)                              0                 N          |\n",
            "|                                                                                                                                 |\n",
            "| block_10_expand (Conv2D)                           (None, 10, 10, 384)                             24576             N          |\n",
            "|                                                                                                                                 |\n",
            "| block_10_expand_BN (BatchNormalization)            (None, 10, 10, 384)                             1536              N          |\n",
            "|                                                                                                                                 |\n",
            "| block_10_expand_relu (ReLU)                        (None, 10, 10, 384)                             0                 N          |\n",
            "|                                                                                                                                 |\n",
            "| block_10_depthwise (DepthwiseConv2D)               (None, 10, 10, 384)                             3456              N          |\n",
            "|                                                                                                                                 |\n",
            "| block_10_depthwise_BN (BatchNormalization)         (None, 10, 10, 384)                             1536              N          |\n",
            "|                                                                                                                                 |\n",
            "| block_10_depthwise_relu (ReLU)                     (None, 10, 10, 384)                             0                 N          |\n",
            "|                                                                                                                                 |\n",
            "| block_10_project (Conv2D)                          (None, 10, 10, 96)                              36864             N          |\n",
            "|                                                                                                                                 |\n",
            "| block_10_project_BN (BatchNormalization)           (None, 10, 10, 96)                              384               N          |\n",
            "|                                                                                                                                 |\n",
            "| block_11_expand (Conv2D)                           (None, 10, 10, 576)                             55296             N          |\n",
            "|                                                                                                                                 |\n",
            "| block_11_expand_BN (BatchNormalization)            (None, 10, 10, 576)                             2304              N          |\n",
            "|                                                                                                                                 |\n",
            "| block_11_expand_relu (ReLU)                        (None, 10, 10, 576)                             0                 N          |\n",
            "|                                                                                                                                 |\n",
            "| block_11_depthwise (DepthwiseConv2D)               (None, 10, 10, 576)                             5184              N          |\n",
            "|                                                                                                                                 |\n",
            "| block_11_depthwise_BN (BatchNormalization)         (None, 10, 10, 576)                             2304              N          |\n",
            "|                                                                                                                                 |\n",
            "| block_11_depthwise_relu (ReLU)                     (None, 10, 10, 576)                             0                 N          |\n",
            "|                                                                                                                                 |\n",
            "| block_11_project (Conv2D)                          (None, 10, 10, 96)                              55296             N          |\n",
            "|                                                                                                                                 |\n",
            "| block_11_project_BN (BatchNormalization)           (None, 10, 10, 96)                              384               N          |\n",
            "|                                                                                                                                 |\n",
            "| block_11_add (Add)                                 (None, 10, 10, 96)                              0                 N          |\n",
            "|                                                                                                                                 |\n",
            "| block_12_expand (Conv2D)                           (None, 10, 10, 576)                             55296             N          |\n",
            "|                                                                                                                                 |\n",
            "| block_12_expand_BN (BatchNormalization)            (None, 10, 10, 576)                             2304              N          |\n",
            "|                                                                                                                                 |\n",
            "| block_12_expand_relu (ReLU)                        (None, 10, 10, 576)                             0                 N          |\n",
            "|                                                                                                                                 |\n",
            "| block_12_depthwise (DepthwiseConv2D)               (None, 10, 10, 576)                             5184              N          |\n",
            "|                                                                                                                                 |\n",
            "| block_12_depthwise_BN (BatchNormalization)         (None, 10, 10, 576)                             2304              N          |\n",
            "|                                                                                                                                 |\n",
            "| block_12_depthwise_relu (ReLU)                     (None, 10, 10, 576)                             0                 N          |\n",
            "|                                                                                                                                 |\n",
            "| block_12_project (Conv2D)                          (None, 10, 10, 96)                              55296             N          |\n",
            "|                                                                                                                                 |\n",
            "| block_12_project_BN (BatchNormalization)           (None, 10, 10, 96)                              384               N          |\n",
            "|                                                                                                                                 |\n",
            "| block_12_add (Add)                                 (None, 10, 10, 96)                              0                 N          |\n",
            "|                                                                                                                                 |\n",
            "| block_13_expand (Conv2D)                           (None, 10, 10, 576)                             55296             N          |\n",
            "|                                                                                                                                 |\n",
            "| block_13_expand_BN (BatchNormalization)            (None, 10, 10, 576)                             2304              N          |\n",
            "|                                                                                                                                 |\n",
            "| block_13_expand_relu (ReLU)                        (None, 10, 10, 576)                             0                 N          |\n",
            "|                                                                                                                                 |\n",
            "| block_13_pad (ZeroPadding2D)                       (None, 11, 11, 576)                             0                 N          |\n",
            "|                                                                                                                                 |\n",
            "| block_13_depthwise (DepthwiseConv2D)               (None, 5, 5, 576)                               5184              N          |\n",
            "|                                                                                                                                 |\n",
            "| block_13_depthwise_BN (BatchNormalization)         (None, 5, 5, 576)                               2304              N          |\n",
            "|                                                                                                                                 |\n",
            "| block_13_depthwise_relu (ReLU)                     (None, 5, 5, 576)                               0                 N          |\n",
            "|                                                                                                                                 |\n",
            "| block_13_project (Conv2D)                          (None, 5, 5, 160)                               92160             N          |\n",
            "|                                                                                                                                 |\n",
            "| block_13_project_BN (BatchNormalization)           (None, 5, 5, 160)                               640               N          |\n",
            "|                                                                                                                                 |\n",
            "| block_14_expand (Conv2D)                           (None, 5, 5, 960)                               153600            N          |\n",
            "|                                                                                                                                 |\n",
            "| block_14_expand_BN (BatchNormalization)            (None, 5, 5, 960)                               3840              N          |\n",
            "|                                                                                                                                 |\n",
            "| block_14_expand_relu (ReLU)                        (None, 5, 5, 960)                               0                 N          |\n",
            "|                                                                                                                                 |\n",
            "| block_14_depthwise (DepthwiseConv2D)               (None, 5, 5, 960)                               8640              N          |\n",
            "|                                                                                                                                 |\n",
            "| block_14_depthwise_BN (BatchNormalization)         (None, 5, 5, 960)                               3840              N          |\n",
            "|                                                                                                                                 |\n",
            "| block_14_depthwise_relu (ReLU)                     (None, 5, 5, 960)                               0                 N          |\n",
            "|                                                                                                                                 |\n",
            "| block_14_project (Conv2D)                          (None, 5, 5, 160)                               153600            N          |\n",
            "|                                                                                                                                 |\n",
            "| block_14_project_BN (BatchNormalization)           (None, 5, 5, 160)                               640               N          |\n",
            "|                                                                                                                                 |\n",
            "| block_14_add (Add)                                 (None, 5, 5, 160)                               0                 N          |\n",
            "|                                                                                                                                 |\n",
            "| block_15_expand (Conv2D)                           (None, 5, 5, 960)                               153600            N          |\n",
            "|                                                                                                                                 |\n",
            "| block_15_expand_BN (BatchNormalization)            (None, 5, 5, 960)                               3840              N          |\n",
            "|                                                                                                                                 |\n",
            "| block_15_expand_relu (ReLU)                        (None, 5, 5, 960)                               0                 N          |\n",
            "|                                                                                                                                 |\n",
            "| block_15_depthwise (DepthwiseConv2D)               (None, 5, 5, 960)                               8640              N          |\n",
            "|                                                                                                                                 |\n",
            "| block_15_depthwise_BN (BatchNormalization)         (None, 5, 5, 960)                               3840              N          |\n",
            "|                                                                                                                                 |\n",
            "| block_15_depthwise_relu (ReLU)                     (None, 5, 5, 960)                               0                 N          |\n",
            "|                                                                                                                                 |\n",
            "| block_15_project (Conv2D)                          (None, 5, 5, 160)                               153600            N          |\n",
            "|                                                                                                                                 |\n",
            "| block_15_project_BN (BatchNormalization)           (None, 5, 5, 160)                               640               N          |\n",
            "|                                                                                                                                 |\n",
            "| block_15_add (Add)                                 (None, 5, 5, 160)                               0                 N          |\n",
            "|                                                                                                                                 |\n",
            "| block_16_expand (Conv2D)                           (None, 5, 5, 960)                               153600            N          |\n",
            "|                                                                                                                                 |\n",
            "| block_16_expand_BN (BatchNormalization)            (None, 5, 5, 960)                               3840              N          |\n",
            "|                                                                                                                                 |\n",
            "| block_16_expand_relu (ReLU)                        (None, 5, 5, 960)                               0                 N          |\n",
            "|                                                                                                                                 |\n",
            "| block_16_depthwise (DepthwiseConv2D)               (None, 5, 5, 960)                               8640              N          |\n",
            "|                                                                                                                                 |\n",
            "| block_16_depthwise_BN (BatchNormalization)         (None, 5, 5, 960)                               3840              N          |\n",
            "|                                                                                                                                 |\n",
            "| block_16_depthwise_relu (ReLU)                     (None, 5, 5, 960)                               0                 N          |\n",
            "|                                                                                                                                 |\n",
            "| block_16_project (Conv2D)                          (None, 5, 5, 320)                               307200            N          |\n",
            "|                                                                                                                                 |\n",
            "| block_16_project_BN (BatchNormalization)           (None, 5, 5, 320)                               1280              N          |\n",
            "|                                                                                                                                 |\n",
            "| Conv_1 (Conv2D)                                    (None, 5, 5, 1280)                              409600            N          |\n",
            "|                                                                                                                                 |\n",
            "| Conv_1_bn (BatchNormalization)                     (None, 5, 5, 1280)                              5120              N          |\n",
            "|                                                                                                                                 |\n",
            "| out_relu (ReLU)                                    (None, 5, 5, 1280)                              0                 N          |\n",
            "¯¯¯¯¯¯¯¯¯¯¯¯¯¯¯¯¯¯¯¯¯¯¯¯¯¯¯¯¯¯¯¯¯¯¯¯¯¯¯¯¯¯¯¯¯¯¯¯¯¯¯¯¯¯¯¯¯¯¯¯¯¯¯¯¯¯¯¯¯¯¯¯¯¯¯¯¯¯¯¯¯¯¯¯¯¯¯¯¯¯¯¯¯¯¯¯¯¯¯¯¯¯¯¯¯¯¯¯¯¯¯¯¯¯¯¯¯¯¯¯¯¯¯¯¯¯¯¯¯¯¯\n",
            " flatten (Flatten)                                    (None, 32000)                                   0                 Y          \n",
            "                                                                                                                                   \n",
            " dense_4 (Dense)                                      (None, 1024)                                    32769024          Y          \n",
            "                                                                                                                                   \n",
            " dense_5 (Dense)                                      (None, 1)                                       1025              Y          \n",
            "                                                                                                                                   \n",
            "===================================================================================================================================\n",
            "Total params: 35,028,033\n",
            "Trainable params: 32,770,049\n",
            "Non-trainable params: 2,257,984\n",
            "___________________________________________________________________________________________________________________________________\n"
          ]
        }
      ],
      "source": [
        "inputs=tf.keras.layers.Input(shape=(160,160,3),batch_size=None,name='model_inputs')                                 # add input layer\n",
        "model_x=tf.keras.layers.Rescaling(1/255,offset=0.0,name='rescaler')(inputs)                                         # rescale inputs\n",
        "model_x=base_model(model_x)                                                                                         # feed inputs to base model\n",
        "model_x=tf.keras.layers.Flatten(name='flatten')(model_x)                                                            # make flatten outputs\n",
        "model_x=tf.keras.layers.Dense(1024,activation='relu')(model_x)                                                      # apply dense layer\n",
        "outputs=tf.keras.layers.Dense(len(training_classes),activation='softmax')(model_x)                                  # output layer\n",
        "model=tf.keras.Model(inputs=[inputs],outputs=[outputs],name='custom_vgg16')                                         # build model\n",
        "model.summary(line_length=120,positions=None,print_fn=None,expand_nested=True,show_trainable=True,layer_range=None) # print model summary"
      ]
    },
    {
      "cell_type": "code",
      "execution_count": null,
      "metadata": {
        "id": "rU4IpyCgWgI2"
      },
      "outputs": [],
      "source": [
        "# make compile model\n",
        "model.compile(optimizer=tf.keras.optimizers.Adam(learning_rate=0.001),loss=tf.keras.losses.SparseCategoricalCrossentropy(),\n",
        "              metrics=tf.keras.metrics.SparseCategoricalAccuracy())"
      ]
    },
    {
      "cell_type": "code",
      "execution_count": null,
      "metadata": {
        "colab": {
          "base_uri": "https://localhost:8080/"
        },
        "id": "sKDaIaH_WgO3",
        "outputId": "4771001c-9b71-495e-e61a-14262f0aa466"
      },
      "outputs": [
        {
          "name": "stdout",
          "output_type": "stream",
          "text": [
            "Epoch 1/10000\n",
            "29/29 - 83s - loss: 0.0000e+00 - sparse_categorical_accuracy: 1.0000 - val_loss: 0.0000e+00 - val_sparse_categorical_accuracy: 1.0000 - 83s/epoch - 3s/step\n",
            "Epoch 2/10000\n",
            "29/29 - 75s - loss: 0.0000e+00 - sparse_categorical_accuracy: 1.0000 - val_loss: 0.0000e+00 - val_sparse_categorical_accuracy: 1.0000 - 75s/epoch - 3s/step\n",
            "Epoch 3/10000\n",
            "29/29 - 80s - loss: 0.0000e+00 - sparse_categorical_accuracy: 1.0000 - val_loss: 0.0000e+00 - val_sparse_categorical_accuracy: 1.0000 - 80s/epoch - 3s/step\n",
            "Epoch 4/10000\n",
            "29/29 - 74s - loss: 0.0000e+00 - sparse_categorical_accuracy: 1.0000 - val_loss: 0.0000e+00 - val_sparse_categorical_accuracy: 1.0000 - 74s/epoch - 3s/step\n",
            "Epoch 5/10000\n",
            "29/29 - 82s - loss: 0.0000e+00 - sparse_categorical_accuracy: 1.0000 - val_loss: 0.0000e+00 - val_sparse_categorical_accuracy: 1.0000 - 82s/epoch - 3s/step\n",
            "Epoch 6/10000\n",
            "29/29 - 75s - loss: 0.0000e+00 - sparse_categorical_accuracy: 1.0000 - val_loss: 0.0000e+00 - val_sparse_categorical_accuracy: 1.0000 - 75s/epoch - 3s/step\n",
            "Epoch 7/10000\n",
            "29/29 - 76s - loss: 0.0000e+00 - sparse_categorical_accuracy: 1.0000 - val_loss: 0.0000e+00 - val_sparse_categorical_accuracy: 1.0000 - 76s/epoch - 3s/step\n",
            "Epoch 8/10000\n",
            "29/29 - 73s - loss: 0.0000e+00 - sparse_categorical_accuracy: 1.0000 - val_loss: 0.0000e+00 - val_sparse_categorical_accuracy: 1.0000 - 73s/epoch - 3s/step\n",
            "Epoch 9/10000\n",
            "29/29 - 75s - loss: 0.0000e+00 - sparse_categorical_accuracy: 1.0000 - val_loss: 0.0000e+00 - val_sparse_categorical_accuracy: 1.0000 - 75s/epoch - 3s/step\n",
            "Epoch 10/10000\n",
            "29/29 - 82s - loss: 0.0000e+00 - sparse_categorical_accuracy: 1.0000 - val_loss: 0.0000e+00 - val_sparse_categorical_accuracy: 1.0000 - 82s/epoch - 3s/step\n",
            "Epoch 11/10000\n",
            "Restoring model weights from the end of the best epoch: 1.\n",
            "29/29 - 77s - loss: 0.0000e+00 - sparse_categorical_accuracy: 1.0000 - val_loss: 0.0000e+00 - val_sparse_categorical_accuracy: 1.0000 - 77s/epoch - 3s/step\n",
            "Epoch 11: early stopping\n"
          ]
        }
      ],
      "source": [
        "# make early stopping\n",
        "early_stop=tf.keras.callbacks.EarlyStopping(monitor='val_loss',min_delta=0,patience=10,verbose=1,mode='auto',restore_best_weights=True)\n",
        "\n",
        "# make train model\n",
        "history=model.fit(train,batch_size=32,epochs=10_000,verbose=2,callbacks=[early_stop],validation_split=0,validation_data=valid,\n",
        "                  shuffle=True)"
      ]
    },
    {
      "cell_type": "code",
      "execution_count": null,
      "metadata": {
        "colab": {
          "base_uri": "https://localhost:8080/",
          "height": 206
        },
        "id": "oQN4F5g7XAB0",
        "outputId": "2b71889e-95c8-475e-f349-5cc327b67ca8"
      },
      "outputs": [
        {
          "data": {
            "text/html": [
              "\n",
              "\n",
              "  <div id=\"df-1500db59-4833-48a6-8e1b-c01b417748f9\">\n",
              "    <div class=\"colab-df-container\">\n",
              "      <div>\n",
              "<style scoped>\n",
              "    .dataframe tbody tr th:only-of-type {\n",
              "        vertical-align: middle;\n",
              "    }\n",
              "\n",
              "    .dataframe tbody tr th {\n",
              "        vertical-align: top;\n",
              "    }\n",
              "\n",
              "    .dataframe thead th {\n",
              "        text-align: right;\n",
              "    }\n",
              "</style>\n",
              "<table border=\"1\" class=\"dataframe\">\n",
              "  <thead>\n",
              "    <tr style=\"text-align: right;\">\n",
              "      <th></th>\n",
              "      <th>loss</th>\n",
              "      <th>sparse_categorical_accuracy</th>\n",
              "      <th>val_loss</th>\n",
              "      <th>val_sparse_categorical_accuracy</th>\n",
              "    </tr>\n",
              "  </thead>\n",
              "  <tbody>\n",
              "    <tr>\n",
              "      <th>0</th>\n",
              "      <td>0.0</td>\n",
              "      <td>1.0</td>\n",
              "      <td>0.0</td>\n",
              "      <td>1.0</td>\n",
              "    </tr>\n",
              "    <tr>\n",
              "      <th>1</th>\n",
              "      <td>0.0</td>\n",
              "      <td>1.0</td>\n",
              "      <td>0.0</td>\n",
              "      <td>1.0</td>\n",
              "    </tr>\n",
              "    <tr>\n",
              "      <th>2</th>\n",
              "      <td>0.0</td>\n",
              "      <td>1.0</td>\n",
              "      <td>0.0</td>\n",
              "      <td>1.0</td>\n",
              "    </tr>\n",
              "    <tr>\n",
              "      <th>3</th>\n",
              "      <td>0.0</td>\n",
              "      <td>1.0</td>\n",
              "      <td>0.0</td>\n",
              "      <td>1.0</td>\n",
              "    </tr>\n",
              "    <tr>\n",
              "      <th>4</th>\n",
              "      <td>0.0</td>\n",
              "      <td>1.0</td>\n",
              "      <td>0.0</td>\n",
              "      <td>1.0</td>\n",
              "    </tr>\n",
              "  </tbody>\n",
              "</table>\n",
              "</div>\n",
              "      <button class=\"colab-df-convert\" onclick=\"convertToInteractive('df-1500db59-4833-48a6-8e1b-c01b417748f9')\"\n",
              "              title=\"Convert this dataframe to an interactive table.\"\n",
              "              style=\"display:none;\">\n",
              "\n",
              "  <svg xmlns=\"http://www.w3.org/2000/svg\" height=\"24px\"viewBox=\"0 0 24 24\"\n",
              "       width=\"24px\">\n",
              "    <path d=\"M0 0h24v24H0V0z\" fill=\"none\"/>\n",
              "    <path d=\"M18.56 5.44l.94 2.06.94-2.06 2.06-.94-2.06-.94-.94-2.06-.94 2.06-2.06.94zm-11 1L8.5 8.5l.94-2.06 2.06-.94-2.06-.94L8.5 2.5l-.94 2.06-2.06.94zm10 10l.94 2.06.94-2.06 2.06-.94-2.06-.94-.94-2.06-.94 2.06-2.06.94z\"/><path d=\"M17.41 7.96l-1.37-1.37c-.4-.4-.92-.59-1.43-.59-.52 0-1.04.2-1.43.59L10.3 9.45l-7.72 7.72c-.78.78-.78 2.05 0 2.83L4 21.41c.39.39.9.59 1.41.59.51 0 1.02-.2 1.41-.59l7.78-7.78 2.81-2.81c.8-.78.8-2.07 0-2.86zM5.41 20L4 18.59l7.72-7.72 1.47 1.35L5.41 20z\"/>\n",
              "  </svg>\n",
              "      </button>\n",
              "\n",
              "\n",
              "\n",
              "    <div id=\"df-384d35cf-c128-4911-9c70-4765c911e2f8\">\n",
              "      <button class=\"colab-df-quickchart\" onclick=\"quickchart('df-384d35cf-c128-4911-9c70-4765c911e2f8')\"\n",
              "              title=\"Suggest charts.\"\n",
              "              style=\"display:none;\">\n",
              "\n",
              "<svg xmlns=\"http://www.w3.org/2000/svg\" height=\"24px\"viewBox=\"0 0 24 24\"\n",
              "     width=\"24px\">\n",
              "    <g>\n",
              "        <path d=\"M19 3H5c-1.1 0-2 .9-2 2v14c0 1.1.9 2 2 2h14c1.1 0 2-.9 2-2V5c0-1.1-.9-2-2-2zM9 17H7v-7h2v7zm4 0h-2V7h2v10zm4 0h-2v-4h2v4z\"/>\n",
              "    </g>\n",
              "</svg>\n",
              "      </button>\n",
              "    </div>\n",
              "\n",
              "<style>\n",
              "  .colab-df-quickchart {\n",
              "    background-color: #E8F0FE;\n",
              "    border: none;\n",
              "    border-radius: 50%;\n",
              "    cursor: pointer;\n",
              "    display: none;\n",
              "    fill: #1967D2;\n",
              "    height: 32px;\n",
              "    padding: 0 0 0 0;\n",
              "    width: 32px;\n",
              "  }\n",
              "\n",
              "  .colab-df-quickchart:hover {\n",
              "    background-color: #E2EBFA;\n",
              "    box-shadow: 0px 1px 2px rgba(60, 64, 67, 0.3), 0px 1px 3px 1px rgba(60, 64, 67, 0.15);\n",
              "    fill: #174EA6;\n",
              "  }\n",
              "\n",
              "  [theme=dark] .colab-df-quickchart {\n",
              "    background-color: #3B4455;\n",
              "    fill: #D2E3FC;\n",
              "  }\n",
              "\n",
              "  [theme=dark] .colab-df-quickchart:hover {\n",
              "    background-color: #434B5C;\n",
              "    box-shadow: 0px 1px 3px 1px rgba(0, 0, 0, 0.15);\n",
              "    filter: drop-shadow(0px 1px 2px rgba(0, 0, 0, 0.3));\n",
              "    fill: #FFFFFF;\n",
              "  }\n",
              "</style>\n",
              "\n",
              "    <script>\n",
              "      async function quickchart(key) {\n",
              "        const containerElement = document.querySelector('#' + key);\n",
              "        const charts = await google.colab.kernel.invokeFunction(\n",
              "            'suggestCharts', [key], {});\n",
              "      }\n",
              "    </script>\n",
              "\n",
              "      <script>\n",
              "\n",
              "function displayQuickchartButton(domScope) {\n",
              "  let quickchartButtonEl =\n",
              "    domScope.querySelector('#df-384d35cf-c128-4911-9c70-4765c911e2f8 button.colab-df-quickchart');\n",
              "  quickchartButtonEl.style.display =\n",
              "    google.colab.kernel.accessAllowed ? 'block' : 'none';\n",
              "}\n",
              "\n",
              "        displayQuickchartButton(document);\n",
              "      </script>\n",
              "      <style>\n",
              "    .colab-df-container {\n",
              "      display:flex;\n",
              "      flex-wrap:wrap;\n",
              "      gap: 12px;\n",
              "    }\n",
              "\n",
              "    .colab-df-convert {\n",
              "      background-color: #E8F0FE;\n",
              "      border: none;\n",
              "      border-radius: 50%;\n",
              "      cursor: pointer;\n",
              "      display: none;\n",
              "      fill: #1967D2;\n",
              "      height: 32px;\n",
              "      padding: 0 0 0 0;\n",
              "      width: 32px;\n",
              "    }\n",
              "\n",
              "    .colab-df-convert:hover {\n",
              "      background-color: #E2EBFA;\n",
              "      box-shadow: 0px 1px 2px rgba(60, 64, 67, 0.3), 0px 1px 3px 1px rgba(60, 64, 67, 0.15);\n",
              "      fill: #174EA6;\n",
              "    }\n",
              "\n",
              "    [theme=dark] .colab-df-convert {\n",
              "      background-color: #3B4455;\n",
              "      fill: #D2E3FC;\n",
              "    }\n",
              "\n",
              "    [theme=dark] .colab-df-convert:hover {\n",
              "      background-color: #434B5C;\n",
              "      box-shadow: 0px 1px 3px 1px rgba(0, 0, 0, 0.15);\n",
              "      filter: drop-shadow(0px 1px 2px rgba(0, 0, 0, 0.3));\n",
              "      fill: #FFFFFF;\n",
              "    }\n",
              "  </style>\n",
              "\n",
              "      <script>\n",
              "        const buttonEl =\n",
              "          document.querySelector('#df-1500db59-4833-48a6-8e1b-c01b417748f9 button.colab-df-convert');\n",
              "        buttonEl.style.display =\n",
              "          google.colab.kernel.accessAllowed ? 'block' : 'none';\n",
              "\n",
              "        async function convertToInteractive(key) {\n",
              "          const element = document.querySelector('#df-1500db59-4833-48a6-8e1b-c01b417748f9');\n",
              "          const dataTable =\n",
              "            await google.colab.kernel.invokeFunction('convertToInteractive',\n",
              "                                                     [key], {});\n",
              "          if (!dataTable) return;\n",
              "\n",
              "          const docLinkHtml = 'Like what you see? Visit the ' +\n",
              "            '<a target=\"_blank\" href=https://colab.research.google.com/notebooks/data_table.ipynb>data table notebook</a>'\n",
              "            + ' to learn more about interactive tables.';\n",
              "          element.innerHTML = '';\n",
              "          dataTable['output_type'] = 'display_data';\n",
              "          await google.colab.output.renderOutput(dataTable, element);\n",
              "          const docLink = document.createElement('div');\n",
              "          docLink.innerHTML = docLinkHtml;\n",
              "          element.appendChild(docLink);\n",
              "        }\n",
              "      </script>\n",
              "    </div>\n",
              "  </div>\n"
            ],
            "text/plain": [
              "   loss  sparse_categorical_accuracy  val_loss  \\\n",
              "0   0.0                          1.0       0.0   \n",
              "1   0.0                          1.0       0.0   \n",
              "2   0.0                          1.0       0.0   \n",
              "3   0.0                          1.0       0.0   \n",
              "4   0.0                          1.0       0.0   \n",
              "\n",
              "   val_sparse_categorical_accuracy  \n",
              "0                              1.0  \n",
              "1                              1.0  \n",
              "2                              1.0  \n",
              "3                              1.0  \n",
              "4                              1.0  "
            ]
          },
          "execution_count": 26,
          "metadata": {},
          "output_type": "execute_result"
        }
      ],
      "source": [
        "# see model history (first five epoches)\n",
        "pd.DataFrame(history.history).head()"
      ]
    },
    {
      "cell_type": "code",
      "execution_count": null,
      "metadata": {
        "colab": {
          "base_uri": "https://localhost:8080/",
          "height": 472
        },
        "id": "SlzOR_vBXAHP",
        "outputId": "887f0397-8b02-47a0-d9fa-23f5dcec77ae"
      },
      "outputs": [
        {
          "data": {
            "image/png": "[encoded data removed]",
            "text/plain": [
              "<Figure size 640x480 with 1 Axes>"
            ]
          },
          "metadata": {},
          "output_type": "display_data"
        }
      ],
      "source": [
        "# make plot training accuracy and validation accuracy\n",
        "pd.DataFrame(history.history)[['sparse_categorical_accuracy','val_sparse_categorical_accuracy']].plot(marker='.')# make plot\n",
        "plt.grid(),plt.title('Training Accuracy'),plt.xlabel('epochs'),plt.ylabel('accuracy')# add grid, title and axis labels\n",
        "plt.show()                                                                      # make plot showv"
      ]
    },
    {
      "cell_type": "code",
      "execution_count": null,
      "metadata": {
        "colab": {
          "base_uri": "https://localhost:8080/",
          "height": 472
        },
        "id": "VMAmLWvyXAMd",
        "outputId": "cf52be5c-bc54-4994-e1d9-66256739f2a7"
      },
      "outputs": [
        {
          "data": {
            "image/png": "[encoded data removed]",
            "text/plain": [
              "<Figure size 640x480 with 1 Axes>"
            ]
          },
          "metadata": {},
          "output_type": "display_data"
        }
      ],
      "source": [
        "# make plot training losses and validation losses\n",
        "pd.DataFrame(history.history)[['loss','val_loss']].plot(marker='.')             # make plot\n",
        "plt.grid(),plt.title('Training Losses'),plt.xlabel('epochs'),plt.ylabel('loss') # add grid, title and axis labels\n",
        "plt.show()"
      ]
    },
    {
      "cell_type": "code",
      "execution_count": null,
      "metadata": {
        "colab": {
          "base_uri": "https://localhost:8080/"
        },
        "id": "xI5F-qctXAR-",
        "outputId": "045e0a8a-176b-42c7-df65-3ab640389ee8"
      },
      "outputs": [
        {
          "name": "stdout",
          "output_type": "stream",
          "text": [
            "5/5 [==============================] - 9s 2s/step - loss: 0.0000e+00 - sparse_categorical_accuracy: 1.0000\n",
            "Testing results: {'loss': 0.0, 'sparse_categorical_accuracy': 1.0}\n"
          ]
        }
      ],
      "source": [
        "# evaluate model\n",
        "results=model.evaluate(test,batch_size=None,verbose=\"auto\",sample_weight=None,return_dict=True)\n",
        "print('Testing results:',results)                                               # make print results"
      ]
    },
    {
      "cell_type": "code",
      "execution_count": null,
      "metadata": {
        "colab": {
          "background_save": true
        },
        "id": "rVy1_Ms0XAXa",
        "outputId": "714c6308-0dce-4821-f865-3aea70b723f1"
      },
      "outputs": [
        {
          "name": "stderr",
          "output_type": "stream",
          "text": [
            "WARNING:absl:Found untraced functions such as _update_step_xla, _jit_compiled_convolution_op, _jit_compiled_convolution_op, _jit_compiled_convolution_op, _jit_compiled_convolution_op while saving (showing 5 of 53). These functions will not be directly callable after loading.\n"
          ]
        }
      ],
      "source": [
        "# make save model (weights and configuration)\n",
        "model.save('pro_MobileNet',overwrite=True,save_format=None)               # make save"
      ]
    },
    {
      "cell_type": "code",
      "execution_count": null,
      "metadata": {
        "id": "7dIQi0wvXAcz"
      },
      "outputs": [],
      "source": [
        "!zip -r -qq \"pro_MobileNet.zip\" \"pro_MobileNet\"                     # make zip model\n",
        "# make auto download model weights\n",
        "from google.colab import files                                                  # load file class\n",
        "files.download('pro_MobileNet.zip')                                       # download model zip file"
      ]
    },
    {
      "cell_type": "code",
      "execution_count": null,
      "metadata": {
        "id": "1y48bF_IXAih"
      },
      "outputs": [],
      "source": []
    }
  ],
  "metadata": {
    "colab": {
      "provenance": []
    },
    "kernelspec": {
      "display_name": "Python 3",
      "name": "python3"
    },
    "language_info": {
      "name": "python"
    }
  },
  "nbformat": 4,
  "nbformat_minor": 0
}
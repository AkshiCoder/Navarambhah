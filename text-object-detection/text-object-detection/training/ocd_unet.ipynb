{
  "cells": [
    {
      "cell_type": "code",
      "execution_count": null,
      "metadata": {
        "id": "jgGlLNiyuVRF"
      },
      "outputs": [],
      "source": [
        "!gdown --id 155wulmctFNkAMYFp770XLCWm1FcYEsfy\n",
        "!unzip WordSegData2"
      ]
    },
    {
      "cell_type": "code",
      "execution_count": null,
      "metadata": {
        "id": "QnBDMt0PuoTT"
      },
      "outputs": [],
      "source": [
        "import numpy as np\n",
        "import matplotlib.pyplot as plt\n",
        "import cv2\n",
        "import os\n",
        "from keras.layers import *\n",
        "from keras.models import Model\n",
        "from keras.optimizers import Adam\n",
        "from keras.callbacks import ModelCheckpoint\n",
        "import random\n",
        "import math\n"
      ]
    },
    {
      "cell_type": "code",
      "execution_count": null,
      "metadata": {
        "id": "lkrWPWNCuwZw"
      },
      "outputs": [],
      "source": [
        "\n",
        "#Importing required libraries.\n",
        "import numpy as np\n",
        "import matplotlib.pyplot as plt\n",
        "import cv2\n",
        "import os\n",
        "from keras.layers import *\n",
        "from keras.models import Model\n",
        "from keras.optimizers import Adam\n",
        "import random\n",
        "import math\n",
        "from keras.callbacks import ModelCheckpoint\n",
        "\n",
        "image_list=os.listdir('/content/Dataset1/img/')\n",
        "image_list=[filename.split(\".\")[0]for filename in image_list]\n",
        "\n",
        "def visualize(img,seg_img):\n",
        "    \"\"\"\n",
        "    Visualizes image\n",
        "    \"\"\"\n",
        "    plt.figure(figsize=(20,20))\n",
        "    plt.subplot(1,2,1)\n",
        "    plt.imshow(img)\n",
        "    plt.title('Image')\n",
        "    plt.subplot(1,2,2)\n",
        "    plt.imshow(seg_img,cmap='gray')\n",
        "    plt.title('Segmented Image')\n",
        "    plt.show()\n",
        "\n",
        "def roundup(x):\n",
        "    return int(math.ceil(x / 10.0)) * 10\n",
        "\n",
        "def get_segmented_img(img,n_classes):\n",
        "    \"\"\"\n",
        "    Loads in the segmented image and create suitable segmentation label.\n",
        "    \"\"\"\n",
        "    seg_labels=np.zeros((512,512,1))\n",
        "    img=cv2.resize(img,(512,512))\n",
        "    img=img[:,:,0]\n",
        "    cl_list=[0,24]\n",
        "\n",
        "\n",
        "    seg_labels[:,:,0]=(img!=0).astype(int)\n",
        "\n",
        "\n",
        "    return seg_labels\n",
        "def pad_img(img):\n",
        "\told_h,old_w=img.shape[0],img.shape[1]\n",
        "\n",
        "\t#Pad the height.\n",
        "\n",
        "\t#If height is less than 512 then pad to 512\n",
        "\tif old_h<512:\n",
        "\t\tto_pad=np.ones((512-old_h,old_w))*255\n",
        "\t\timg=np.concatenate((img,to_pad))\n",
        "\t\tnew_height=512\n",
        "\telse:\n",
        "\t#If height >512 then pad to nearest 10.\n",
        "\t\tto_pad=np.ones((roundup(old_h)-old_h,old_w))*255\n",
        "\t\timg=np.concatenate((img,to_pad))\n",
        "\t\tnew_height=roundup(old_h)\n",
        "\n",
        "\t#Pad the width.\n",
        "\tif old_w<512:\n",
        "\t\tto_pad=np.ones((new_height,512-old_w))*255\n",
        "\t\timg=np.concatenate((img,to_pad),axis=1)\n",
        "\t\tnew_width=512\n",
        "\telse:\n",
        "\t\tto_pad=np.ones((new_height,roundup(old_w)-old_w))*255\n",
        "\t\timg=np.concatenate((img,to_pad),axis=1)\n",
        "\t\tnew_width=roundup(old_w)-old_w\n",
        "\treturn img\n",
        "\n",
        "\n",
        "def pad_seg(img):\n",
        "\told_h,old_w=img.shape[0],img.shape[1]\n",
        "\n",
        "\t#Pad the height.\n",
        "\n",
        "\t#If height is less than 512 then pad to 512\n",
        "\tif old_h<512:\n",
        "\t\tto_pad=np.zeros((512-old_h,old_w))\n",
        "\t\timg=np.concatenate((img,to_pad))\n",
        "\t\tnew_height=512\n",
        "\telse:\n",
        "\t#If height >512 then pad to nearest 10.\n",
        "\t\tto_pad=np.zeros((roundup(old_h)-old_h,old_w))\n",
        "\t\timg=np.concatenate((img,to_pad))\n",
        "\t\tnew_height=roundup(old_h)\n",
        "\n",
        "\t#Pad the width.\n",
        "\tif old_w<512:\n",
        "\t\tto_pad=np.zeros((new_height,512-old_w))\n",
        "\t\timg=np.concatenate((img,to_pad),axis=1)\n",
        "\t\tnew_width=512\n",
        "\telse:\n",
        "\t\tto_pad=np.zeros((new_height,roundup(old_w)-old_w))\n",
        "\t\timg=np.concatenate((img,to_pad),axis=1)\n",
        "\t\tnew_width=roundup(old_w)-old_w\n",
        "\treturn img\n",
        "\n",
        "\n",
        "\n",
        "def batch_generator(filelist,n_classes,batch_size):\n",
        "  while True:\n",
        "    X=[]\n",
        "    Y=[]\n",
        "    for i in range(batch_size):\n",
        "      fn=random.choice(filelist)\n",
        "      img=cv2.imread(f'/content/Dataset1/img/{fn}.jpg',0)\n",
        "      img=pad_img(img)\n",
        "      ret,img=cv2.threshold(img,150,255,cv2.THRESH_BINARY_INV)\n",
        "\n",
        "\n",
        "      img=cv2.resize(img,(512,512))\n",
        "      img=np.expand_dims(img,axis=-1)\n",
        "      #img = np.stack((img,)*3, axis=-1)\n",
        "      img=img/255\n",
        "\n",
        "      seg=cv2.imread(f'/content/Dataset1/mask/{fn}_mask.png',0)\n",
        "      seg=pad_seg(seg)\n",
        "      seg=cv2.resize(seg,(512,512))\n",
        "      seg = np.stack((seg,)*3, axis=-1)\n",
        "      seg=get_segmented_img(seg,n_classes)\n",
        "\n",
        "      X.append(img)\n",
        "      Y.append(seg)\n",
        "    yield np.array(X),np.array(Y)"
      ]
    },
    {
      "cell_type": "code",
      "execution_count": null,
      "metadata": {
        "id": "MO9rkufau3MG"
      },
      "outputs": [],
      "source": [
        "random.shuffle(image_list)\n",
        "file_train=image_list[0:int(0.75*len(image_list))]\n",
        "file_test=image_list[int(0.75*len(image_list)):]"
      ]
    },
    {
      "cell_type": "code",
      "execution_count": null,
      "metadata": {
        "colab": {
          "base_uri": "https://localhost:8080/"
        },
        "id": "CoYABZUavg8r",
        "outputId": "f2868ae6-a405-4dca-f09f-f9b3833e202c"
      },
      "outputs": [
        {
          "name": "stderr",
          "output_type": "stream",
          "text": [
            "/usr/local/lib/python3.10/dist-packages/keras/optimizers/legacy/adam.py:117: UserWarning: The `lr` argument is deprecated, use `learning_rate` instead.\n",
            "  super().__init__(name, **kwargs)\n"
          ]
        }
      ],
      "source": [
        "\n",
        "def unet(pretrained_weights = None,input_size = (512,512,1)):\n",
        "    inputs = Input(input_size)\n",
        "    conv1 = Conv2D(64, 3, activation = 'relu', padding = 'same', kernel_initializer = 'he_normal')(inputs)\n",
        "    conv1 = Conv2D(64, 3, activation = 'relu', padding = 'same', kernel_initializer = 'he_normal')(conv1)\n",
        "    pool1 = MaxPooling2D(pool_size=(2, 2))(conv1)\n",
        "    conv2 = Conv2D(128, 3, activation = 'relu', padding = 'same', kernel_initializer = 'he_normal')(pool1)\n",
        "    conv2 = Conv2D(128, 3, activation = 'relu', padding = 'same', kernel_initializer = 'he_normal')(conv2)\n",
        "    pool2 = MaxPooling2D(pool_size=(2, 2))(conv2)\n",
        "    conv3 = Conv2D(256, 3, activation = 'relu', padding = 'same', kernel_initializer = 'he_normal')(pool2)\n",
        "    conv3 = Conv2D(256, 3, activation = 'relu', padding = 'same', kernel_initializer = 'he_normal')(conv3)\n",
        "    pool3 = MaxPooling2D(pool_size=(2, 2))(conv3)\n",
        "    conv4 = Conv2D(512, 3, activation = 'relu', padding = 'same', kernel_initializer = 'he_normal')(pool3)\n",
        "    conv4 = Conv2D(512, 3, activation = 'relu', padding = 'same', kernel_initializer = 'he_normal')(conv4)\n",
        "    drop4 = Dropout(0.5)(conv4)\n",
        "    pool4 = MaxPooling2D(pool_size=(2, 2))(drop4)\n",
        "\n",
        "    conv5 = Conv2D(1024, 3, activation = 'relu', padding = 'same', kernel_initializer = 'he_normal')(pool4)\n",
        "    conv5 = Conv2D(1024, 3, activation = 'relu', padding = 'same', kernel_initializer = 'he_normal')(conv5)\n",
        "    drop5 = Dropout(0.5)(conv5)\n",
        "\n",
        "    up6 = Conv2D(512, 2, activation = 'relu', padding = 'same', kernel_initializer = 'he_normal')(UpSampling2D(size = (2,2))(drop5))\n",
        "    merge6 = concatenate([drop4,up6], axis = 3)\n",
        "    conv6 = Conv2D(512, 3, activation = 'relu', padding = 'same', kernel_initializer = 'he_normal')(merge6)\n",
        "    conv6 = Conv2D(512, 3, activation = 'relu', padding = 'same', kernel_initializer = 'he_normal')(conv6)\n",
        "\n",
        "    up7 = Conv2D(256, 2, activation = 'relu', padding = 'same', kernel_initializer = 'he_normal')(UpSampling2D(size = (2,2))(conv6))\n",
        "    merge7 = concatenate([conv3,up7], axis = 3)\n",
        "    conv7 = Conv2D(256, 3, activation = 'relu', padding = 'same', kernel_initializer = 'he_normal')(merge7)\n",
        "    conv7 = Conv2D(256, 3, activation = 'relu', padding = 'same', kernel_initializer = 'he_normal')(conv7)\n",
        "\n",
        "    up8 = Conv2D(128, 2, activation = 'relu', padding = 'same', kernel_initializer = 'he_normal')(UpSampling2D(size = (2,2))(conv7))\n",
        "    merge8 = concatenate([conv2,up8], axis = 3)\n",
        "    conv8 = Conv2D(128, 3, activation = 'relu', padding = 'same', kernel_initializer = 'he_normal')(merge8)\n",
        "    conv8 = Conv2D(128, 3, activation = 'relu', padding = 'same', kernel_initializer = 'he_normal')(conv8)\n",
        "\n",
        "    up9 = Conv2D(64, 2, activation = 'relu', padding = 'same', kernel_initializer = 'he_normal')(UpSampling2D(size = (2,2))(conv8))\n",
        "    merge9 = concatenate([conv1,up9], axis = 3)\n",
        "    conv9 = Conv2D(64, 3, activation = 'relu', padding = 'same', kernel_initializer = 'he_normal')(merge9)\n",
        "    conv9 = Conv2D(64, 3, activation = 'relu', padding = 'same', kernel_initializer = 'he_normal')(conv9)\n",
        "    conv9 = Conv2D(2, 3, activation = 'relu', padding = 'same', kernel_initializer = 'he_normal')(conv9)\n",
        "    conv10 = Conv2D(1, 1, activation = 'sigmoid')(conv9)\n",
        "\n",
        "    model = Model(inputs,conv10)\n",
        "\n",
        "    model.compile(optimizer = Adam(lr = 1e-4), loss = 'binary_crossentropy', metrics = ['accuracy'])\n",
        "\n",
        "    #model.summary()\n",
        "\n",
        "    if(pretrained_weights):\n",
        "    \tmodel.load_weights(pretrained_weights)\n",
        "\n",
        "    return model\n",
        "\n",
        "model=unet()\n",
        "\n",
        "\n",
        "mc = ModelCheckpoint('weights{epoch:08d}.h5', save_weights_only=True)"
      ]
    },
    {
      "cell_type": "markdown",
      "metadata": {},
      "source": [
        "If you have the pretrained best model, skip the fit step."
      ]
    },
    {
      "cell_type": "code",
      "execution_count": null,
      "metadata": {
        "colab": {
          "base_uri": "https://localhost:8080/"
        },
        "id": "jpuczqAAv7LI",
        "outputId": "5ffb4992-a23a-4de5-efd0-32add22593e2"
      },
      "outputs": [
        {
          "name": "stdout",
          "output_type": "stream",
          "text": [
            "Epoch 1/5\n",
            "1000/1000 [==============================] - 711s 685ms/step - loss: 0.6551 - accuracy: 0.9963 - val_loss: 0.6310 - val_accuracy: 0.9974\n",
            "Epoch 2/5\n",
            "1000/1000 [==============================] - 699s 699ms/step - loss: 0.6088 - accuracy: 0.9973 - val_loss: 0.5871 - val_accuracy: 0.9973\n",
            "Epoch 3/5\n",
            "1000/1000 [==============================] - 699s 699ms/step - loss: 0.5665 - accuracy: 0.9975 - val_loss: 0.5461 - val_accuracy: 0.9975\n",
            "Epoch 4/5\n",
            "1000/1000 [==============================] - 683s 683ms/step - loss: 0.5267 - accuracy: 0.9976 - val_loss: 0.5078 - val_accuracy: 0.9974\n",
            "Epoch 5/5\n",
            "1000/1000 [==============================] - 698s 698ms/step - loss: 0.4894 - accuracy: 0.9977 - val_loss: 0.4713 - val_accuracy: 0.9976\n"
          ]
        },
        {
          "data": {
            "text/plain": [
              "<keras.callbacks.History at 0x7de8d5c9a2c0>"
            ]
          },
          "execution_count": 6,
          "metadata": {},
          "output_type": "execute_result"
        }
      ],
      "source": [
        "model.fit(batch_generator(file_train,2,2),epochs=5,steps_per_epoch=1000,validation_data=batch_generator(file_test,2,2),\n",
        "                    validation_steps=400,callbacks=[mc],shuffle=1)"
      ]
    },
    {
      "cell_type": "markdown",
      "metadata": {},
      "source": [
        "The model is finished. Now to see results"
      ]
    },
    {
      "cell_type": "code",
      "execution_count": null,
      "metadata": {
        "colab": {
          "base_uri": "https://localhost:8080/",
          "height": 489
        },
        "id": "zB3tP79fwdXW",
        "outputId": "042948ed-8e5d-4346-886b-7b3496fb08d1"
      },
      "outputs": [
        {
          "name": "stdout",
          "output_type": "stream",
          "text": [
            "1/1 [==============================] - 11s 11s/step\n"
          ]
        },
        {
          "data": {
            "text/plain": [
              "True"
            ]
          },
          "execution_count": 6,
          "metadata": {},
          "output_type": "execute_result"
        },
        {
          "data": {
            "image/png": "[encoded data removed]",
            "text/plain": [
              "<Figure size 640x480 with 1 Axes>"
            ]
          },
          "metadata": {},
          "output_type": "display_data"
        }
      ],
      "source": [
        "model.load_weights('/content/weights00000005.h5')\n",
        "#Prediction.\n",
        "file_test='/content/Dataset1/img/lineE6.jpg'\n",
        "img=cv2.imread(f'{file_test}',0)\n",
        "img=pad_img(img)\n",
        "ret,img=cv2.threshold(img,150,255,cv2.THRESH_BINARY_INV)\n",
        "img=cv2.resize(img,(512,512))\n",
        "img=np.expand_dims(img,axis=-1)\n",
        "#img = np.stack((img,)*3, axis=-1)\n",
        "img=img/255\n",
        "\n",
        "img=np.expand_dims(img,axis=0)\n",
        "pred=model.predict(img)\n",
        "pred=np.squeeze(np.squeeze(pred,axis=0),axis=-1)\n",
        "plt.imshow(pred,cmap='gray')\n",
        "\n",
        "plt.imsave('test_img_mask.JPG',pred)\n",
        "\n",
        "\n",
        "img = cv2.imread('/content/test_img_mask.JPG',0)\n",
        "cv2.threshold(img,0,255,cv2.THRESH_BINARY+cv2.THRESH_OTSU,img)\n",
        "ori_img=cv2.imread(f'{file_test}',0)\n",
        "ori_img=pad_img(ori_img)\n",
        "(H, W) = ori_img.shape[:2]\n",
        "(newW, newH) = (512, 512)\n",
        "rW = W / float(newW)\n",
        "rH = H / float(newH)\n",
        "ori_img_copy=np.stack((ori_img,)*3, axis=-1)\n",
        "\n",
        "contours, hier = cv2.findContours(img, cv2.RETR_EXTERNAL,cv2.CHAIN_APPROX_NONE)\n",
        "for c in contours:\n",
        "    # get the bounding rect\n",
        "    x, y, w, h = cv2.boundingRect(c)\n",
        "    # draw a white rectangle to visualize the bounding rect\n",
        "    cv2.rectangle(ori_img_copy, (int(x*rW), int(y*rH)), (int((x+w)*rW),int((y+h)*rH)), (255,0,0), 1)\n",
        "    #coordinates.append([x,y,(x+w),(y+h)])\n",
        "\n",
        "cv2.drawContours(img, contours, -1, (255, 255, 0), 1)\n",
        "\n",
        "cv2.imwrite(\"output.png\",ori_img_copy)"
      ]
    }
  ],
  "metadata": {
    "accelerator": "GPU",
    "colab": {
      "gpuType": "T4",
      "provenance": []
    },
    "kernelspec": {
      "display_name": "Python 3",
      "name": "python3"
    },
    "language_info": {
      "name": "python"
    }
  },
  "nbformat": 4,
  "nbformat_minor": 0
}

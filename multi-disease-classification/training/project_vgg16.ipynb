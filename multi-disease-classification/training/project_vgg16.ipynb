{
  "cells": [
    {
      "cell_type": "code",
      "execution_count": null,
      "metadata": {
        "id": "bIO43p9jo0Yz"
      },
      "outputs": [],
      "source": [
        "!python -m pip install -qq kaggle                                               # install kaggle"
      ]
    },
    {
      "cell_type": "code",
      "execution_count": null,
      "metadata": {
        "colab": {
          "base_uri": "https://localhost:8080/"
        },
        "id": "LzlXkjkbpD51",
        "outputId": "f4047c9e-a8cd-4630-98c5-2bd7ad063ced"
      },
      "outputs": [
        {
          "name": "stdout",
          "output_type": "stream",
          "text": [
            "Downloading multidiseasedataset.zip to /content\n",
            "\n"
          ]
        },
        {
          "name": "stderr",
          "output_type": "stream",
          "text": [
            "mkdir: cannot create directory ‘/root/.kaggle’: File exists\n",
            "\r  0%|          | 0.00/2.88G [00:00<?, ?B/s]\r  0%|          | 11.0M/2.88G [00:00<00:26, 115MB/s]\r  1%|          | 30.0M/2.88G [00:00<00:18, 162MB/s]\r  2%|▏         | 46.0M/2.88G [00:00<00:23, 131MB/s]\r  2%|▏         | 65.0M/2.88G [00:00<00:20, 149MB/s]\r  3%|▎         | 81.0M/2.88G [00:00<00:20, 146MB/s]\r  3%|▎         | 99.0M/2.88G [00:00<00:18, 159MB/s]\r  4%|▍         | 117M/2.88G [00:00<00:17, 167MB/s] \r  5%|▍         | 138M/2.88G [00:00<00:16, 182MB/s]\r  5%|▌         | 158M/2.88G [00:00<00:15, 188MB/s]\r  6%|▌         | 178M/2.88G [00:01<00:15, 193MB/s]\r  7%|▋         | 205M/2.88G [00:01<00:13, 218MB/s]\r  8%|▊         | 226M/2.88G [00:01<00:13, 210MB/s]\r  8%|▊         | 247M/2.88G [00:01<00:13, 206MB/s]\r  9%|▉         | 273M/2.88G [00:01<00:13, 211MB/s]\r 10%|▉         | 294M/2.88G [00:01<00:13, 208MB/s]\r 11%|█         | 319M/2.88G [00:01<00:12, 221MB/s]\r 12%|█▏        | 341M/2.88G [00:02<00:17, 157MB/s]\r 12%|█▏        | 359M/2.88G [00:02<00:16, 163MB/s]\r 13%|█▎        | 381M/2.88G [00:02<00:15, 178MB/s]\r 14%|█▎        | 401M/2.88G [00:02<00:14, 185MB/s]\r 14%|█▍        | 422M/2.88G [00:02<00:13, 192MB/s]\r 15%|█▍        | 442M/2.88G [00:02<00:13, 193MB/s]\r 16%|█▌        | 462M/2.88G [00:02<00:13, 193MB/s]\r 16%|█▋        | 485M/2.88G [00:02<00:12, 206MB/s]\r 17%|█▋        | 513M/2.88G [00:02<00:11, 230MB/s]\r 18%|█▊        | 538M/2.88G [00:02<00:10, 238MB/s]\r 19%|█▉        | 561M/2.88G [00:03<00:17, 145MB/s]\r 20%|█▉        | 580M/2.88G [00:03<00:26, 93.1MB/s]\r 20%|██        | 595M/2.88G [00:03<00:24, 102MB/s] \r 21%|██        | 614M/2.88G [00:03<00:20, 119MB/s]\r 21%|██▏       | 630M/2.88G [00:04<00:19, 124MB/s]\r 22%|██▏       | 646M/2.88G [00:04<00:19, 127MB/s]\r 23%|██▎       | 666M/2.88G [00:04<00:16, 145MB/s]\r 23%|██▎       | 686M/2.88G [00:04<00:14, 159MB/s]\r 24%|██▍       | 703M/2.88G [00:04<00:14, 161MB/s]\r 24%|██▍       | 723M/2.88G [00:04<00:13, 173MB/s]\r 25%|██▌       | 744M/2.88G [00:04<00:12, 186MB/s]\r 26%|██▌       | 763M/2.88G [00:04<00:12, 188MB/s]\r 27%|██▋       | 786M/2.88G [00:04<00:11, 203MB/s]\r 27%|██▋       | 809M/2.88G [00:04<00:10, 207MB/s]\r 28%|██▊       | 833M/2.88G [00:05<00:10, 219MB/s]\r 29%|██▉       | 857M/2.88G [00:05<00:09, 227MB/s]\r 30%|██▉       | 879M/2.88G [00:05<00:09, 221MB/s]\r 31%|███       | 902M/2.88G [00:05<00:09, 226MB/s]\r 31%|███▏      | 924M/2.88G [00:05<00:09, 225MB/s]\r 32%|███▏      | 946M/2.88G [00:05<00:09, 212MB/s]\r 33%|███▎      | 967M/2.88G [00:05<00:09, 213MB/s]\r 33%|███▎      | 988M/2.88G [00:05<00:10, 205MB/s]\r 34%|███▍      | 0.98G/2.88G [00:05<00:10, 203MB/s]\r 35%|███▍      | 1.00G/2.88G [00:06<00:11, 170MB/s]\r 35%|███▌      | 1.02G/2.88G [00:06<00:14, 134MB/s]\r 36%|███▌      | 1.04G/2.88G [00:06<00:14, 134MB/s]\r 37%|███▋      | 1.05G/2.88G [00:06<00:13, 149MB/s]\r 37%|███▋      | 1.07G/2.88G [00:06<00:13, 148MB/s]\r 38%|███▊      | 1.09G/2.88G [00:06<00:13, 148MB/s]\r 38%|███▊      | 1.10G/2.88G [00:06<00:12, 153MB/s]\r 39%|███▉      | 1.12G/2.88G [00:07<00:12, 151MB/s]\r 40%|███▉      | 1.14G/2.88G [00:07<00:11, 168MB/s]\r 40%|████      | 1.16G/2.88G [00:07<00:11, 167MB/s]\r 41%|████      | 1.17G/2.88G [00:07<00:11, 156MB/s]\r 41%|████      | 1.19G/2.88G [00:07<00:12, 142MB/s]\r 42%|████▏     | 1.20G/2.88G [00:07<00:12, 148MB/s]\r 42%|████▏     | 1.22G/2.88G [00:07<00:12, 142MB/s]\r 43%|████▎     | 1.23G/2.88G [00:07<00:14, 122MB/s]\r 43%|████▎     | 1.24G/2.88G [00:08<00:15, 113MB/s]\r 44%|████▎     | 1.26G/2.88G [00:08<00:14, 124MB/s]\r 44%|████▍     | 1.27G/2.88G [00:08<00:13, 132MB/s]\r 45%|████▍     | 1.29G/2.88G [00:08<00:12, 135MB/s]\r 45%|████▌     | 1.30G/2.88G [00:08<00:14, 119MB/s]\r 46%|████▌     | 1.32G/2.88G [00:08<00:13, 128MB/s]\r 46%|████▌     | 1.33G/2.88G [00:08<00:12, 130MB/s]\r 47%|████▋     | 1.35G/2.88G [00:08<00:10, 161MB/s]\r 48%|████▊     | 1.37G/2.88G [00:08<00:09, 167MB/s]\r 48%|████▊     | 1.39G/2.88G [00:09<00:08, 181MB/s]\r 49%|████▉     | 1.41G/2.88G [00:09<00:09, 159MB/s]\r 50%|████▉     | 1.43G/2.88G [00:09<00:08, 175MB/s]\r 50%|█████     | 1.45G/2.88G [00:09<00:09, 170MB/s]\r 51%|█████     | 1.46G/2.88G [00:09<00:08, 174MB/s]\r 51%|█████▏    | 1.48G/2.88G [00:09<00:08, 168MB/s]\r 52%|█████▏    | 1.50G/2.88G [00:09<00:09, 154MB/s]\r 53%|█████▎    | 1.52G/2.88G [00:09<00:08, 168MB/s]\r 53%|█████▎    | 1.54G/2.88G [00:10<00:09, 150MB/s]\r 54%|█████▍    | 1.55G/2.88G [00:10<00:09, 158MB/s]\r 55%|█████▍    | 1.57G/2.88G [00:10<00:08, 169MB/s]\r 55%|█████▌    | 1.59G/2.88G [00:10<00:08, 165MB/s]\r 56%|█████▌    | 1.61G/2.88G [00:10<00:07, 179MB/s]\r 56%|█████▋    | 1.63G/2.88G [00:10<00:08, 166MB/s]\r 57%|█████▋    | 1.64G/2.88G [00:10<00:08, 165MB/s]\r 58%|█████▊    | 1.66G/2.88G [00:10<00:09, 141MB/s]\r 58%|█████▊    | 1.68G/2.88G [00:10<00:08, 149MB/s]\r 59%|█████▊    | 1.69G/2.88G [00:11<00:08, 154MB/s]\r 60%|█████▉    | 1.72G/2.88G [00:11<00:07, 177MB/s]\r 60%|██████    | 1.73G/2.88G [00:11<00:06, 181MB/s]\r 61%|██████    | 1.75G/2.88G [00:11<00:06, 174MB/s]\r 61%|██████▏   | 1.77G/2.88G [00:12<00:20, 58.1MB/s]\r 62%|██████▏   | 1.78G/2.88G [00:13<00:46, 25.7MB/s]\r 62%|██████▏   | 1.80G/2.88G [00:13<00:34, 34.1MB/s]\r 63%|██████▎   | 1.81G/2.88G [00:13<00:29, 39.1MB/s]\r 63%|██████▎   | 1.82G/2.88G [00:14<00:25, 44.7MB/s]\r 63%|██████▎   | 1.83G/2.88G [00:14<00:22, 51.1MB/s]\r 64%|██████▍   | 1.84G/2.88G [00:14<00:21, 52.3MB/s]\r 64%|██████▍   | 1.85G/2.88G [00:14<00:17, 62.5MB/s]\r 65%|██████▍   | 1.86G/2.88G [00:14<00:15, 69.0MB/s]\r 65%|██████▍   | 1.87G/2.88G [00:14<00:14, 74.8MB/s]\r 65%|██████▌   | 1.88G/2.88G [00:14<00:13, 81.0MB/s]\r 66%|██████▌   | 1.89G/2.88G [00:14<00:10, 98.8MB/s]\r 66%|██████▌   | 1.91G/2.88G [00:15<00:09, 112MB/s] \r 67%|██████▋   | 1.92G/2.88G [00:15<00:08, 118MB/s]\r 67%|██████▋   | 1.93G/2.88G [00:15<00:08, 116MB/s]\r 68%|██████▊   | 1.95G/2.88G [00:15<00:08, 113MB/s]\r 68%|██████▊   | 1.96G/2.88G [00:15<00:07, 127MB/s]\r 69%|██████▊   | 1.98G/2.88G [00:15<00:07, 138MB/s]\r 69%|██████▉   | 1.99G/2.88G [00:15<00:06, 140MB/s]\r 70%|██████▉   | 2.01G/2.88G [00:15<00:06, 147MB/s]\r 70%|███████   | 2.03G/2.88G [00:15<00:05, 155MB/s]\r 71%|███████   | 2.04G/2.88G [00:16<00:05, 166MB/s]\r 71%|███████▏  | 2.06G/2.88G [00:16<00:05, 164MB/s]\r 72%|███████▏  | 2.08G/2.88G [00:16<00:05, 152MB/s]\r 73%|███████▎  | 2.09G/2.88G [00:16<00:05, 161MB/s]\r 73%|███████▎  | 2.11G/2.88G [00:16<00:05, 164MB/s]\r 74%|███████▍  | 2.13G/2.88G [00:16<00:04, 179MB/s]\r 75%|███████▍  | 2.15G/2.88G [00:16<00:04, 183MB/s]\r 75%|███████▌  | 2.17G/2.88G [00:16<00:04, 156MB/s]\r 76%|███████▌  | 2.18G/2.88G [00:17<00:05, 128MB/s]\r 76%|███████▋  | 2.20G/2.88G [00:17<00:04, 148MB/s]\r 77%|███████▋  | 2.22G/2.88G [00:17<00:04, 157MB/s]\r 78%|███████▊  | 2.24G/2.88G [00:17<00:04, 166MB/s]\r 78%|███████▊  | 2.26G/2.88G [00:17<00:04, 165MB/s]\r 79%|███████▉  | 2.27G/2.88G [00:18<00:15, 41.8MB/s]\r 79%|███████▉  | 2.29G/2.88G [00:18<00:12, 50.8MB/s]\r 80%|███████▉  | 2.30G/2.88G [00:18<00:11, 56.9MB/s]\r 80%|████████  | 2.31G/2.88G [00:19<00:09, 63.8MB/s]\r 81%|████████  | 2.32G/2.88G [00:19<00:08, 72.1MB/s]\r 81%|████████  | 2.33G/2.88G [00:19<00:07, 80.2MB/s]\r 82%|████████▏ | 2.35G/2.88G [00:19<00:05, 96.9MB/s]\r 82%|████████▏ | 2.36G/2.88G [00:19<00:05, 105MB/s] \r 82%|████████▏ | 2.38G/2.88G [00:19<00:04, 112MB/s]\r 83%|████████▎ | 2.39G/2.88G [00:19<00:04, 120MB/s]\r 83%|████████▎ | 2.40G/2.88G [00:19<00:04, 118MB/s]\r 84%|████████▍ | 2.42G/2.88G [00:19<00:03, 133MB/s]\r 84%|████████▍ | 2.43G/2.88G [00:20<00:04, 118MB/s]\r 85%|████████▍ | 2.45G/2.88G [00:20<00:03, 119MB/s]\r 85%|████████▌ | 2.46G/2.88G [00:20<00:04, 113MB/s]\r 86%|████████▌ | 2.47G/2.88G [00:20<00:03, 119MB/s]\r 86%|████████▌ | 2.48G/2.88G [00:20<00:04, 105MB/s]\r 87%|████████▋ | 2.49G/2.88G [00:20<00:04, 103MB/s]\r 87%|████████▋ | 2.50G/2.88G [00:20<00:04, 98.7MB/s]\r 87%|████████▋ | 2.52G/2.88G [00:20<00:03, 103MB/s] \r 88%|████████▊ | 2.53G/2.88G [00:21<00:03, 107MB/s]\r 88%|████████▊ | 2.55G/2.88G [00:21<00:02, 137MB/s]\r 89%|████████▉ | 2.56G/2.88G [00:21<00:02, 128MB/s]\r 89%|████████▉ | 2.58G/2.88G [00:21<00:02, 111MB/s]\r 90%|████████▉ | 2.59G/2.88G [00:21<00:02, 112MB/s]\r 90%|█████████ | 2.60G/2.88G [00:21<00:02, 124MB/s]\r 91%|█████████ | 2.62G/2.88G [00:21<00:02, 119MB/s]\r 91%|█████████▏| 2.63G/2.88G [00:21<00:02, 128MB/s]\r 92%|█████████▏| 2.65G/2.88G [00:22<00:02, 121MB/s]\r 92%|█████████▏| 2.66G/2.88G [00:22<00:01, 137MB/s]\r 93%|█████████▎| 2.68G/2.88G [00:22<00:01, 139MB/s]\r 94%|█████████▎| 2.70G/2.88G [00:22<00:01, 159MB/s]\r 94%|█████████▍| 2.71G/2.88G [00:23<00:04, 36.7MB/s]\r 95%|█████████▍| 2.73G/2.88G [00:23<00:03, 46.4MB/s]\r 95%|█████████▌| 2.74G/2.88G [00:23<00:02, 52.3MB/s]\r 96%|█████████▌| 2.75G/2.88G [00:24<00:02, 58.7MB/s]\r 96%|█████████▌| 2.76G/2.88G [00:24<00:01, 66.1MB/s]\r 96%|█████████▋| 2.78G/2.88G [00:24<00:01, 75.0MB/s]\r 97%|█████████▋| 2.79G/2.88G [00:24<00:01, 84.5MB/s]\r 97%|█████████▋| 2.80G/2.88G [00:24<00:01, 88.3MB/s]\r 98%|█████████▊| 2.81G/2.88G [00:24<00:00, 106MB/s] \r 98%|█████████▊| 2.83G/2.88G [00:24<00:00, 118MB/s]\r 99%|█████████▊| 2.84G/2.88G [00:24<00:00, 132MB/s]\r 99%|█████████▉| 2.86G/2.88G [00:24<00:00, 134MB/s]\r100%|█████████▉| 2.88G/2.88G [00:25<00:00, 165MB/s]\r100%|██████████| 2.88G/2.88G [00:25<00:00, 123MB/s]\n"
          ]
        }
      ],
      "source": [
        "%%bash\n",
        "mkdir ~/.kaggle                                                                 # make directory\n",
        "cp kaggle.json ~/.kaggle/                                                       # copy file (json)\n",
        "chmod 600 ~/.kaggle/kaggle.json                                                 # change file permission\n",
        "kaggle datasets download praneshkumarm/multidiseasedataset                      # download dataset\n",
        "unzip -qq \"/content/multidiseasedataset.zip\"                                    # unzip data\n",
        "mv \"Augumented Data\" \"augumented_data\"                                          # rename data folder\n",
        "rm -rf \"/content/sample_data\"                                                   # remove sample data"
      ]
    },
    {
      "cell_type": "code",
      "execution_count": null,
      "metadata": {
        "id": "OsNFIFNhpPHD"
      },
      "outputs": [],
      "source": [
        "import os\n",
        "import re\n",
        "import numpy as np\n",
        "from matplotlib import pyplot as plt\n",
        "import tensorflow as tf                                                         # load tensorflow\n",
        "import tensorflow_datasets as tfds\n",
        "import pandas as pd"
      ]
    },
    {
      "cell_type": "code",
      "execution_count": null,
      "metadata": {
        "colab": {
          "base_uri": "https://localhost:8080/"
        },
        "id": "UneH1UNDpR7Z",
        "outputId": "05d28789-e901-4d41-fba9-1dc5bffc183b"
      },
      "outputs": [
        {
          "name": "stdout",
          "output_type": "stream",
          "text": [
            "Total classes: 28\n",
            "Class names: ['Chest - Covid19', 'Skin - bkl', 'Brain - No  Brain Tumor', 'Chest - Pneumonia', 'RF - Proliferate DR', 'Brain - pituitary Brain Tumor', 'Brain - Alzheimer ModerateDemented', 'RF - Normal Fundus', 'Brain - Alzheimer VeryMildDemented', 'RF - Cataract', 'Skin - bcc', 'Skin - akiec', 'Skin - vasc', 'Brain - Alzheimer NonDemented', 'Chest - Lung Opacity', 'Brain - glioma Brain Tumor', 'RF - Mild DR', 'RF - Glaucoma', 'RF - AMD', 'RF - Hypertensive Retinopathy', 'Brain - Alzheimer MildDemented', 'Chest - Normal', 'Brain - meningioma Brain Tumor', 'Skin - df', 'RF - Severe DR', 'Skin - nv', 'Skin - mel', 'RF - Moderate DR']\n",
            "Cleaned Class names: ['chest_covid19', 'skin_bkl', 'brain_no_brain_tumor', 'chest_pneumonia', 'rf_proliferate_dr', 'brain_pituitary_brain_tumor', 'brain_alzheimer_moderatedemented', 'rf_normal_fundus', 'brain_alzheimer_verymilddemented', 'rf_cataract', 'skin_bcc', 'skin_akiec', 'skin_vasc', 'brain_alzheimer_nondemented', 'chest_lung_opacity', 'brain_glioma_brain_tumor', 'rf_mild_dr', 'rf_glaucoma', 'rf_amd', 'rf_hypertensive_retinopathy', 'brain_alzheimer_milddemented', 'chest_normal', 'brain_meningioma_brain_tumor', 'skin_df', 'rf_severe_dr', 'skin_nv', 'skin_mel', 'rf_moderate_dr']\n",
            "Class counts: {'brain_alzheimer_nondemented': 2067, 'rf_mild_dr': 1974, 'brain_pituitary_brain_tumor': 1365, 'skin_vasc': 1791, 'rf_proliferate_dr': 1295, 'chest_lung_opacity': 1600, 'brain_meningioma_brain_tumor': 1369, 'skin_df': 1581, 'brain_alzheimer_milddemented': 1749, 'rf_normal_fundus': 1984, 'rf_cataract': 1369, 'brain_alzheimer_verymilddemented': 1495, 'chest_covid19': 1931, 'rf_glaucoma': 1678, 'brain_no_brain_tumor': 1630, 'skin_mel': 1050, 'brain_glioma_brain_tumor': 1382, 'chest_normal': 1341, 'skin_bkl': 1958, 'rf_severe_dr': 1586, 'skin_bcc': 1847, 'brain_alzheimer_moderatedemented': 1424, 'rf_amd': 1725, 'skin_akiec': 1506, 'skin_nv': 1905, 'rf_hypertensive_retinopathy': 1220, 'chest_pneumonia': 1968, 'rf_moderate_dr': 1969}\n"
          ]
        }
      ],
      "source": [
        "classes=os.listdir('augumented_data')                                                  # get all classes names\n",
        "print('Total classes:',len(classes))                                            # total classes\n",
        "print('Class names:',classes)                                                   # class names\n",
        "# clean class names\n",
        "classes_clean=[re.sub('[^A-Za-z0-9 ]',' ',class_) for class_ in classes]        # remove unwanted characters\n",
        "classes_clean=[re.sub('[ ]+','_',class_).casefold() for class_ in classes_clean]# replace one or multiple spaces by underscore '_'\n",
        "print('Cleaned Class names:',classes_clean)                                     # clean class names\n",
        "# rename class names with clean class names\n",
        "for old_name,new_name in zip(classes,classes_clean):                            # get old and new class names\n",
        "  os.rename(os.path.join('augumented_data',old_name),os.path.join('augumented_data',new_name))# rename with new class names\n",
        "# get minimum class count ------------------------------------------------------\n",
        "class_counts:dict=dict()                                                        # get class samples for each class\n",
        "# get number of files in each class\n",
        "for class_ in os.listdir('augumented_data'):                                           # get class name folder\n",
        "  class_counts[class_]=len(os.listdir(os.path.join('augumented_data',class_)))         # count samples in given class\n",
        "print('Class counts:',class_counts)                                             # print class counts\n",
        "minimum_class_count=min(class_counts.values())                                  # get minimum class count\n",
        "test_split_size:int=int(minimum_class_count*10/100)                             # get test split size\n",
        "# make train and test directory\n",
        "os.mkdir('test')                                                                # make directory to store test data"
      ]
    },
    {
      "cell_type": "code",
      "execution_count": null,
      "metadata": {
        "id": "uDloagQqpW2p"
      },
      "outputs": [],
      "source": [
        "# move 10% of minimum class count from each directory\n",
        "for class_ in os.listdir('augumented_data'):\n",
        "  os.mkdir(os.path.join('test',class_))\n",
        "  #make move randomly selected images from main to test directory\n",
        "  for image in np.random.choice(os.listdir(os.path.join('augumented_data',class_)),size=test_split_size,replace=False):\n",
        "    os.rename(os.path.join('augumented_data',class_,image),os.path.join('test',class_,image))\n",
        "os.rename('augumented_data','train')                                            # rename main directory as train"
      ]
    },
    {
      "cell_type": "code",
      "execution_count": null,
      "metadata": {
        "colab": {
          "base_uri": "https://localhost:8080/"
        },
        "id": "7-S96JBSssWo",
        "outputId": "89c21c3d-78df-4310-e707-6ac3e80e14f3"
      },
      "outputs": [
        {
          "name": "stdout",
          "output_type": "stream",
          "text": [
            "Found 42819 files belonging to 28 classes.\n",
            "Using 29974 files for training.\n",
            "Found 42819 files belonging to 28 classes.\n",
            "Using 12845 files for validation.\n",
            "Found 2940 files belonging to 28 classes.\n"
          ]
        }
      ],
      "source": [
        "#load dataset - train,test and valid\n",
        "train=tf.keras.utils.image_dataset_from_directory('train',labels='inferred',label_mode='int',class_names=None,color_mode='rgb',batch_size=64,\n",
        "                                                   image_size=(224,224),shuffle=True,validation_split=0.3,interpolation='bilinear',\n",
        "                                                   subset='training',seed=8,)\n",
        "valid=tf.keras.utils.image_dataset_from_directory('train',labels='inferred',label_mode='int',class_names=None,color_mode='rgb',batch_size=64,\n",
        "                                                   image_size=(224,224),shuffle=True,validation_split=0.3,interpolation='bilinear',\n",
        "                                                   subset='validation',seed=8,)\n",
        "test=tf.keras.utils.image_dataset_from_directory('test',labels='inferred',label_mode='int',class_names=None,color_mode='rgb',batch_size=64,\n",
        "                                                   image_size=(224,224),shuffle=True,validation_split=0.0,interpolation='bilinear',\n",
        "                                                   subset=None\n",
        "                                                  ,seed=8,)"
      ]
    },
    {
      "cell_type": "code",
      "execution_count": null,
      "metadata": {
        "colab": {
          "base_uri": "https://localhost:8080/"
        },
        "id": "MVly1EVRswgY",
        "outputId": "566f74c7-13ef-4391-cf7c-453f55745a9a"
      },
      "outputs": [
        {
          "name": "stdout",
          "output_type": "stream",
          "text": [
            "Total training images: tf.Tensor(15008, shape=(), dtype=int64)\n",
            "Total validation images: tf.Tensor(6432, shape=(), dtype=int64)\n",
            "Total test images: tf.Tensor(1472, shape=(), dtype=int64)\n",
            "Class names: ['brain_alzheimer_milddemented', 'brain_alzheimer_moderatedemented', 'brain_alzheimer_nondemented', 'brain_alzheimer_verymilddemented', 'brain_glioma_brain_tumor', 'brain_meningioma_brain_tumor', 'brain_no_brain_tumor', 'brain_pituitary_brain_tumor', 'chest_covid19', 'chest_lung_opacity', 'chest_normal', 'chest_pneumonia', 'rf_amd', 'rf_cataract', 'rf_glaucoma', 'rf_hypertensive_retinopathy', 'rf_mild_dr', 'rf_moderate_dr', 'rf_normal_fundus', 'rf_proliferate_dr', 'rf_severe_dr', 'skin_akiec', 'skin_bcc', 'skin_bkl', 'skin_df', 'skin_mel', 'skin_nv', 'skin_vasc']\n"
          ]
        }
      ],
      "source": [
        "print(\"Total training images:\",train.cardinality()*32)\n",
        "print(\"Total validation images:\",valid.cardinality()*32)\n",
        "print(\"Total test images:\",test.cardinality()*32)\n",
        "training_classes:list=train.class_names\n",
        "valid_classes:list=valid.class_names\n",
        "test_classes:list=test.class_names\n",
        "assert training_classes==valid_classes==test_classes,'class count train, valid and test set is not same '\n",
        "print('Class names:',training_classes)"
      ]
    },
    {
      "cell_type": "code",
      "execution_count": null,
      "metadata": {
        "colab": {
          "base_uri": "https://localhost:8080/",
          "height": 1000
        },
        "id": "g-O7wZXNsysA",
        "outputId": "54808501-9ecb-4e3b-cce3-c1e88e735449"
      },
      "outputs": [],
      "source": [
        "# make plot data\n",
        "for image,labels in train.take(1):break\n",
        "image_to_plot:int=9\n",
        "plt.figure(figsize=(15,15))\n",
        "for index in range(9):\n",
        "  plt.subplot(3,3,index+1)\n",
        "  plt.imshow(image[index].numpy().astype('uint8'))\n",
        "  plt.axis('off')\n",
        "  plt.title(training_classes[labels[index].numpy()])\n",
        "plt.tight_layout()\n",
        "plt.show()"
      ]
    },
    {
      "cell_type": "code",
      "execution_count": null,
      "metadata": {
        "colab": {
          "base_uri": "https://localhost:8080/"
        },
        "id": "U8bE8AMBpzdg",
        "outputId": "afb7e0d1-8425-43ff-fa0a-e170a9f4bbe0"
      },
      "outputs": [
        {
          "name": "stdout",
          "output_type": "stream",
          "text": [
            "Downloading data from https://storage.googleapis.com/tensorflow/keras-applications/vgg16/vgg16_weights_tf_dim_ordering_tf_kernels_notop.h5\n",
            "58889256/58889256 [==============================] - 1s 0us/step\n"
          ]
        }
      ],
      "source": [
        "base_model=tf.keras.applications.VGG16(include_top=False,weights='imagenet',input_shape=(224,224,3))# laod base model - VGG16\n",
        "#base_model.summary(line_length=120,positions=None,print_fn=None,expand_nested=True,show_trainable=False,layer_range=None)# print base model summary\n",
        "base_model.trainable=False                                                      # make freeze base"
      ]
    },
    {
      "cell_type": "code",
      "execution_count": null,
      "metadata": {
        "colab": {
          "base_uri": "https://localhost:8080/"
        },
        "id": "cOyG1oRrr4KQ",
        "outputId": "06a266ee-82a2-4a01-c1e1-a02c7857c6bd"
      },
      "outputs": [
        {
          "name": "stdout",
          "output_type": "stream",
          "text": [
            "Model: \"custom_vgg16\"\n",
            "___________________________________________________________________________________________________________________________________\n",
            " Layer (type)                                         Output Shape                                    Param #           Trainable  \n",
            "===================================================================================================================================\n",
            " model_inputs (InputLayer)                            [(None, 224, 224, 3)]                           0                 Y          \n",
            "                                                                                                                                   \n",
            " rescaler (Rescaling)                                 (None, 224, 224, 3)                             0                 Y          \n",
            "                                                                                                                                   \n",
            " vgg16 (Functional)                                   (None, 7, 7, 512)                               14714688          N          \n",
            "|¯¯¯¯¯¯¯¯¯¯¯¯¯¯¯¯¯¯¯¯¯¯¯¯¯¯¯¯¯¯¯¯¯¯¯¯¯¯¯¯¯¯¯¯¯¯¯¯¯¯¯¯¯¯¯¯¯¯¯¯¯¯¯¯¯¯¯¯¯¯¯¯¯¯¯¯¯¯¯¯¯¯¯¯¯¯¯¯¯¯¯¯¯¯¯¯¯¯¯¯¯¯¯¯¯¯¯¯¯¯¯¯¯¯¯¯¯¯¯¯¯¯¯¯¯¯¯¯¯|\n",
            "| input_1 (InputLayer)                               [(None, 224, 224, 3)]                           0                 N          |\n",
            "|                                                                                                                                 |\n",
            "| block1_conv1 (Conv2D)                              (None, 224, 224, 64)                            1792              N          |\n",
            "|                                                                                                                                 |\n",
            "| block1_conv2 (Conv2D)                              (None, 224, 224, 64)                            36928             N          |\n",
            "|                                                                                                                                 |\n",
            "| block1_pool (MaxPooling2D)                         (None, 112, 112, 64)                            0                 N          |\n",
            "|                                                                                                                                 |\n",
            "| block2_conv1 (Conv2D)                              (None, 112, 112, 128)                           73856             N          |\n",
            "|                                                                                                                                 |\n",
            "| block2_conv2 (Conv2D)                              (None, 112, 112, 128)                           147584            N          |\n",
            "|                                                                                                                                 |\n",
            "| block2_pool (MaxPooling2D)                         (None, 56, 56, 128)                             0                 N          |\n",
            "|                                                                                                                                 |\n",
            "| block3_conv1 (Conv2D)                              (None, 56, 56, 256)                             295168            N          |\n",
            "|                                                                                                                                 |\n",
            "| block3_conv2 (Conv2D)                              (None, 56, 56, 256)                             590080            N          |\n",
            "|                                                                                                                                 |\n",
            "| block3_conv3 (Conv2D)                              (None, 56, 56, 256)                             590080            N          |\n",
            "|                                                                                                                                 |\n",
            "| block3_pool (MaxPooling2D)                         (None, 28, 28, 256)                             0                 N          |\n",
            "|                                                                                                                                 |\n",
            "| block4_conv1 (Conv2D)                              (None, 28, 28, 512)                             1180160           N          |\n",
            "|                                                                                                                                 |\n",
            "| block4_conv2 (Conv2D)                              (None, 28, 28, 512)                             2359808           N          |\n",
            "|                                                                                                                                 |\n",
            "| block4_conv3 (Conv2D)                              (None, 28, 28, 512)                             2359808           N          |\n",
            "|                                                                                                                                 |\n",
            "| block4_pool (MaxPooling2D)                         (None, 14, 14, 512)                             0                 N          |\n",
            "|                                                                                                                                 |\n",
            "| block5_conv1 (Conv2D)                              (None, 14, 14, 512)                             2359808           N          |\n",
            "|                                                                                                                                 |\n",
            "| block5_conv2 (Conv2D)                              (None, 14, 14, 512)                             2359808           N          |\n",
            "|                                                                                                                                 |\n",
            "| block5_conv3 (Conv2D)                              (None, 14, 14, 512)                             2359808           N          |\n",
            "|                                                                                                                                 |\n",
            "| block5_pool (MaxPooling2D)                         (None, 7, 7, 512)                               0                 N          |\n",
            "¯¯¯¯¯¯¯¯¯¯¯¯¯¯¯¯¯¯¯¯¯¯¯¯¯¯¯¯¯¯¯¯¯¯¯¯¯¯¯¯¯¯¯¯¯¯¯¯¯¯¯¯¯¯¯¯¯¯¯¯¯¯¯¯¯¯¯¯¯¯¯¯¯¯¯¯¯¯¯¯¯¯¯¯¯¯¯¯¯¯¯¯¯¯¯¯¯¯¯¯¯¯¯¯¯¯¯¯¯¯¯¯¯¯¯¯¯¯¯¯¯¯¯¯¯¯¯¯¯¯¯\n",
            " flatten (Flatten)                                    (None, 25088)                                   0                 Y          \n",
            "                                                                                                                                   \n",
            " dense (Dense)                                        (None, 1024)                                    25691136          Y          \n",
            "                                                                                                                                   \n",
            " dense_1 (Dense)                                      (None, 28)                                      28700             Y          \n",
            "                                                                                                                                   \n",
            "===================================================================================================================================\n",
            "Total params: 40,434,524\n",
            "Trainable params: 25,719,836\n",
            "Non-trainable params: 14,714,688\n",
            "___________________________________________________________________________________________________________________________________\n"
          ]
        }
      ],
      "source": [
        "inputs=tf.keras.layers.Input(shape=(224,224,3),batch_size=None,name='model_inputs')# add input layer\n",
        "model_x=tf.keras.layers.Rescaling(1/255,offset=0.0,name='rescaler')(inputs)     # rescale inputs\n",
        "model_x=base_model(model_x)                                                     # feed inputs to base model\n",
        "model_x=tf.keras.layers.Flatten(name='flatten')(model_x)                         # make flatten outputs\n",
        "model_x=tf.keras.layers.Dense(1024,activation='relu')(model_x)                  # apply dense layer\n",
        "outputs=tf.keras.layers.Dense(len(training_classes),activation='softmax')(model_x)# output layer\n",
        "model=tf.keras.Model(inputs=[inputs],outputs=[outputs],name='custom_vgg16')     # build model\n",
        "model.summary(line_length=120,positions=None,print_fn=None,expand_nested=True,show_trainable=True,layer_range=None)# print model summary"
      ]
    },
    {
      "cell_type": "code",
      "execution_count": null,
      "metadata": {
        "id": "FVAb7p8Wyx_E"
      },
      "outputs": [],
      "source": [
        "#make compile model\n",
        "model.compile(optimizer=tf.keras.optimizers.Adam(learning_rate=0.001),loss=tf.keras.losses.SparseCategoricalCrossentropy(),metrics=tf.keras.metrics.SparseCategoricalAccuracy())"
      ]
    },
    {
      "cell_type": "code",
      "execution_count": null,
      "metadata": {
        "colab": {
          "background_save": true,
          "base_uri": "https://localhost:8080/"
        },
        "id": "d4nOYYxjy9HN",
        "outputId": "c7878a37-0339-45ec-8508-929f5c47ded3"
      },
      "outputs": [
        {
          "name": "stdout",
          "output_type": "stream",
          "text": [
            "Epoch 1/10000\n",
            "469/469 - 203s - loss: 1.1394 - sparse_categorical_accuracy: 0.6151 - val_loss: 0.7823 - val_sparse_categorical_accuracy: 0.6908 - 203s/epoch - 433ms/step\n",
            "Epoch 2/10000\n",
            "469/469 - 179s - loss: 0.6182 - sparse_categorical_accuracy: 0.7508 - val_loss: 0.6513 - val_sparse_categorical_accuracy: 0.7375 - 179s/epoch - 381ms/step\n",
            "Epoch 3/10000\n",
            "469/469 - 179s - loss: 0.5128 - sparse_categorical_accuracy: 0.7943 - val_loss: 0.5636 - val_sparse_categorical_accuracy: 0.7717 - 179s/epoch - 383ms/step\n",
            "Epoch 4/10000\n",
            "469/469 - 178s - loss: 0.4383 - sparse_categorical_accuracy: 0.8209 - val_loss: 0.6705 - val_sparse_categorical_accuracy: 0.7467 - 178s/epoch - 379ms/step\n",
            "Epoch 5/10000\n",
            "469/469 - 178s - loss: 0.3784 - sparse_categorical_accuracy: 0.8487 - val_loss: 0.6011 - val_sparse_categorical_accuracy: 0.7703 - 178s/epoch - 379ms/step\n",
            "Epoch 6/10000\n",
            "469/469 - 178s - loss: 0.3240 - sparse_categorical_accuracy: 0.8700 - val_loss: 0.6311 - val_sparse_categorical_accuracy: 0.7701 - 178s/epoch - 379ms/step\n",
            "Epoch 7/10000\n",
            "469/469 - 207s - loss: 0.3059 - sparse_categorical_accuracy: 0.8787 - val_loss: 0.6093 - val_sparse_categorical_accuracy: 0.7793 - 207s/epoch - 441ms/step\n",
            "Epoch 8/10000\n",
            "469/469 - 178s - loss: 0.2668 - sparse_categorical_accuracy: 0.8982 - val_loss: 0.6171 - val_sparse_categorical_accuracy: 0.7938 - 178s/epoch - 379ms/step\n",
            "Epoch 9/10000\n",
            "469/469 - 178s - loss: 0.2376 - sparse_categorical_accuracy: 0.9083 - val_loss: 0.6199 - val_sparse_categorical_accuracy: 0.7845 - 178s/epoch - 380ms/step\n",
            "Epoch 10/10000\n",
            "469/469 - 179s - loss: 0.2033 - sparse_categorical_accuracy: 0.9235 - val_loss: 0.6054 - val_sparse_categorical_accuracy: 0.7983 - 179s/epoch - 381ms/step\n",
            "Epoch 11/10000\n",
            "469/469 - 180s - loss: 0.2008 - sparse_categorical_accuracy: 0.9233 - val_loss: 0.6716 - val_sparse_categorical_accuracy: 0.7941 - 180s/epoch - 383ms/step\n",
            "Epoch 12/10000\n",
            "469/469 - 178s - loss: 0.1866 - sparse_categorical_accuracy: 0.9292 - val_loss: 0.7038 - val_sparse_categorical_accuracy: 0.7933 - 178s/epoch - 380ms/step\n",
            "Epoch 13/10000\n",
            "469/469 - 181s - loss: 0.1581 - sparse_categorical_accuracy: 0.9415 - val_loss: 0.8472 - val_sparse_categorical_accuracy: 0.7875 - 181s/epoch - 385ms/step\n",
            "Epoch 14/10000\n",
            "469/469 - 178s - loss: 0.1566 - sparse_categorical_accuracy: 0.9425 - val_loss: 0.6375 - val_sparse_categorical_accuracy: 0.8145 - 178s/epoch - 380ms/step\n",
            "Epoch 15/10000\n",
            "469/469 - 180s - loss: 0.1224 - sparse_categorical_accuracy: 0.9548 - val_loss: 0.7982 - val_sparse_categorical_accuracy: 0.7933 - 180s/epoch - 384ms/step\n",
            "Epoch 16/10000\n",
            "469/469 - 178s - loss: 0.1303 - sparse_categorical_accuracy: 0.9523 - val_loss: 0.7250 - val_sparse_categorical_accuracy: 0.8119 - 178s/epoch - 379ms/step\n",
            "Epoch 17/10000\n",
            "469/469 - 178s - loss: 0.0991 - sparse_categorical_accuracy: 0.9636 - val_loss: 0.7166 - val_sparse_categorical_accuracy: 0.8189 - 178s/epoch - 380ms/step\n",
            "Epoch 18/10000\n",
            "469/469 - 207s - loss: 0.1115 - sparse_categorical_accuracy: 0.9594 - val_loss: 0.8121 - val_sparse_categorical_accuracy: 0.8003 - 207s/epoch - 441ms/step\n",
            "Epoch 19/10000\n",
            "469/469 - 178s - loss: 0.1353 - sparse_categorical_accuracy: 0.9508 - val_loss: 0.8226 - val_sparse_categorical_accuracy: 0.8047 - 178s/epoch - 380ms/step\n",
            "Epoch 20/10000\n",
            "469/469 - 178s - loss: 0.0761 - sparse_categorical_accuracy: 0.9730 - val_loss: 0.8631 - val_sparse_categorical_accuracy: 0.8034 - 178s/epoch - 379ms/step\n",
            "Epoch 21/10000\n",
            "469/469 - 207s - loss: 0.0809 - sparse_categorical_accuracy: 0.9705 - val_loss: 0.8770 - val_sparse_categorical_accuracy: 0.8069 - 207s/epoch - 441ms/step\n",
            "Epoch 22/10000\n",
            "Restoring model weights from the end of the best epoch: 17.\n",
            "469/469 - 178s - loss: 0.0814 - sparse_categorical_accuracy: 0.9720 - val_loss: 0.8386 - val_sparse_categorical_accuracy: 0.8013 - 178s/epoch - 379ms/step\n",
            "Epoch 22: early stopping\n"
          ]
        }
      ],
      "source": [
        "# make early stopping\n",
        "early_stop=tf.keras.callbacks.EarlyStopping(monitor='val_sparse_categorical_accuracy',min_delta=0,patience=5,verbose=1,mode='auto',restore_best_weights=True)\n",
        "# make train model\n",
        "history=model.fit(train,batch_size=None,epochs=10_000,verbose=2,callbacks=[early_stop],validation_split=0,validation_data=valid,shuffle=True)"
      ]
    },
    {
      "cell_type": "code",
      "execution_count": null,
      "metadata": {
        "colab": {
          "background_save": true
        },
        "id": "R1K9E6DdzB0-",
        "outputId": "9a89377a-4621-43a9-adea-98135c2a28e3"
      },
      "outputs": [
        {
          "data": {
            "text/html": [
              "\n",
              "\n",
              "  <div id=\"df-4b4901ee-1893-40fd-a7b8-df8e567322db\">\n",
              "    <div class=\"colab-df-container\">\n",
              "      <div>\n",
              "<style scoped>\n",
              "    .dataframe tbody tr th:only-of-type {\n",
              "        vertical-align: middle;\n",
              "    }\n",
              "\n",
              "    .dataframe tbody tr th {\n",
              "        vertical-align: top;\n",
              "    }\n",
              "\n",
              "    .dataframe thead th {\n",
              "        text-align: right;\n",
              "    }\n",
              "</style>\n",
              "<table border=\"1\" class=\"dataframe\">\n",
              "  <thead>\n",
              "    <tr style=\"text-align: right;\">\n",
              "      <th></th>\n",
              "      <th>loss</th>\n",
              "      <th>sparse_categorical_accuracy</th>\n",
              "      <th>val_loss</th>\n",
              "      <th>val_sparse_categorical_accuracy</th>\n",
              "    </tr>\n",
              "  </thead>\n",
              "  <tbody>\n",
              "    <tr>\n",
              "      <th>0</th>\n",
              "      <td>1.139446</td>\n",
              "      <td>0.615066</td>\n",
              "      <td>0.782266</td>\n",
              "      <td>0.690775</td>\n",
              "    </tr>\n",
              "    <tr>\n",
              "      <th>1</th>\n",
              "      <td>0.618180</td>\n",
              "      <td>0.750784</td>\n",
              "      <td>0.651316</td>\n",
              "      <td>0.737485</td>\n",
              "    </tr>\n",
              "    <tr>\n",
              "      <th>2</th>\n",
              "      <td>0.512814</td>\n",
              "      <td>0.794255</td>\n",
              "      <td>0.563639</td>\n",
              "      <td>0.771740</td>\n",
              "    </tr>\n",
              "    <tr>\n",
              "      <th>3</th>\n",
              "      <td>0.438311</td>\n",
              "      <td>0.820878</td>\n",
              "      <td>0.670523</td>\n",
              "      <td>0.746750</td>\n",
              "    </tr>\n",
              "    <tr>\n",
              "      <th>4</th>\n",
              "      <td>0.378437</td>\n",
              "      <td>0.848702</td>\n",
              "      <td>0.601149</td>\n",
              "      <td>0.770339</td>\n",
              "    </tr>\n",
              "  </tbody>\n",
              "</table>\n",
              "</div>\n",
              "      <button class=\"colab-df-convert\" onclick=\"convertToInteractive('df-4b4901ee-1893-40fd-a7b8-df8e567322db')\"\n",
              "              title=\"Convert this dataframe to an interactive table.\"\n",
              "              style=\"display:none;\">\n",
              "\n",
              "  <svg xmlns=\"http://www.w3.org/2000/svg\" height=\"24px\"viewBox=\"0 0 24 24\"\n",
              "       width=\"24px\">\n",
              "    <path d=\"M0 0h24v24H0V0z\" fill=\"none\"/>\n",
              "    <path d=\"M18.56 5.44l.94 2.06.94-2.06 2.06-.94-2.06-.94-.94-2.06-.94 2.06-2.06.94zm-11 1L8.5 8.5l.94-2.06 2.06-.94-2.06-.94L8.5 2.5l-.94 2.06-2.06.94zm10 10l.94 2.06.94-2.06 2.06-.94-2.06-.94-.94-2.06-.94 2.06-2.06.94z\"/><path d=\"M17.41 7.96l-1.37-1.37c-.4-.4-.92-.59-1.43-.59-.52 0-1.04.2-1.43.59L10.3 9.45l-7.72 7.72c-.78.78-.78 2.05 0 2.83L4 21.41c.39.39.9.59 1.41.59.51 0 1.02-.2 1.41-.59l7.78-7.78 2.81-2.81c.8-.78.8-2.07 0-2.86zM5.41 20L4 18.59l7.72-7.72 1.47 1.35L5.41 20z\"/>\n",
              "  </svg>\n",
              "      </button>\n",
              "\n",
              "\n",
              "\n",
              "    <div id=\"df-eeb33734-fbe3-4741-8956-ffd9f4ef3e56\">\n",
              "      <button class=\"colab-df-quickchart\" onclick=\"quickchart('df-eeb33734-fbe3-4741-8956-ffd9f4ef3e56')\"\n",
              "              title=\"Suggest charts.\"\n",
              "              style=\"display:none;\">\n",
              "\n",
              "<svg xmlns=\"http://www.w3.org/2000/svg\" height=\"24px\"viewBox=\"0 0 24 24\"\n",
              "     width=\"24px\">\n",
              "    <g>\n",
              "        <path d=\"M19 3H5c-1.1 0-2 .9-2 2v14c0 1.1.9 2 2 2h14c1.1 0 2-.9 2-2V5c0-1.1-.9-2-2-2zM9 17H7v-7h2v7zm4 0h-2V7h2v10zm4 0h-2v-4h2v4z\"/>\n",
              "    </g>\n",
              "</svg>\n",
              "      </button>\n",
              "    </div>\n",
              "\n",
              "<style>\n",
              "  .colab-df-quickchart {\n",
              "    background-color: #E8F0FE;\n",
              "    border: none;\n",
              "    border-radius: 50%;\n",
              "    cursor: pointer;\n",
              "    display: none;\n",
              "    fill: #1967D2;\n",
              "    height: 32px;\n",
              "    padding: 0 0 0 0;\n",
              "    width: 32px;\n",
              "  }\n",
              "\n",
              "  .colab-df-quickchart:hover {\n",
              "    background-color: #E2EBFA;\n",
              "    box-shadow: 0px 1px 2px rgba(60, 64, 67, 0.3), 0px 1px 3px 1px rgba(60, 64, 67, 0.15);\n",
              "    fill: #174EA6;\n",
              "  }\n",
              "\n",
              "  [theme=dark] .colab-df-quickchart {\n",
              "    background-color: #3B4455;\n",
              "    fill: #D2E3FC;\n",
              "  }\n",
              "\n",
              "  [theme=dark] .colab-df-quickchart:hover {\n",
              "    background-color: #434B5C;\n",
              "    box-shadow: 0px 1px 3px 1px rgba(0, 0, 0, 0.15);\n",
              "    filter: drop-shadow(0px 1px 2px rgba(0, 0, 0, 0.3));\n",
              "    fill: #FFFFFF;\n",
              "  }\n",
              "</style>\n",
              "\n",
              "    <script>\n",
              "      async function quickchart(key) {\n",
              "        const containerElement = document.querySelector('#' + key);\n",
              "        const charts = await google.colab.kernel.invokeFunction(\n",
              "            'suggestCharts', [key], {});\n",
              "      }\n",
              "    </script>\n",
              "\n",
              "      <script>\n",
              "\n",
              "function displayQuickchartButton(domScope) {\n",
              "  let quickchartButtonEl =\n",
              "    domScope.querySelector('#df-eeb33734-fbe3-4741-8956-ffd9f4ef3e56 button.colab-df-quickchart');\n",
              "  quickchartButtonEl.style.display =\n",
              "    google.colab.kernel.accessAllowed ? 'block' : 'none';\n",
              "}\n",
              "\n",
              "        displayQuickchartButton(document);\n",
              "      </script>\n",
              "      <style>\n",
              "    .colab-df-container {\n",
              "      display:flex;\n",
              "      flex-wrap:wrap;\n",
              "      gap: 12px;\n",
              "    }\n",
              "\n",
              "    .colab-df-convert {\n",
              "      background-color: #E8F0FE;\n",
              "      border: none;\n",
              "      border-radius: 50%;\n",
              "      cursor: pointer;\n",
              "      display: none;\n",
              "      fill: #1967D2;\n",
              "      height: 32px;\n",
              "      padding: 0 0 0 0;\n",
              "      width: 32px;\n",
              "    }\n",
              "\n",
              "    .colab-df-convert:hover {\n",
              "      background-color: #E2EBFA;\n",
              "      box-shadow: 0px 1px 2px rgba(60, 64, 67, 0.3), 0px 1px 3px 1px rgba(60, 64, 67, 0.15);\n",
              "      fill: #174EA6;\n",
              "    }\n",
              "\n",
              "    [theme=dark] .colab-df-convert {\n",
              "      background-color: #3B4455;\n",
              "      fill: #D2E3FC;\n",
              "    }\n",
              "\n",
              "    [theme=dark] .colab-df-convert:hover {\n",
              "      background-color: #434B5C;\n",
              "      box-shadow: 0px 1px 3px 1px rgba(0, 0, 0, 0.15);\n",
              "      filter: drop-shadow(0px 1px 2px rgba(0, 0, 0, 0.3));\n",
              "      fill: #FFFFFF;\n",
              "    }\n",
              "  </style>\n",
              "\n",
              "      <script>\n",
              "        const buttonEl =\n",
              "          document.querySelector('#df-4b4901ee-1893-40fd-a7b8-df8e567322db button.colab-df-convert');\n",
              "        buttonEl.style.display =\n",
              "          google.colab.kernel.accessAllowed ? 'block' : 'none';\n",
              "\n",
              "        async function convertToInteractive(key) {\n",
              "          const element = document.querySelector('#df-4b4901ee-1893-40fd-a7b8-df8e567322db');\n",
              "          const dataTable =\n",
              "            await google.colab.kernel.invokeFunction('convertToInteractive',\n",
              "                                                     [key], {});\n",
              "          if (!dataTable) return;\n",
              "\n",
              "          const docLinkHtml = 'Like what you see? Visit the ' +\n",
              "            '<a target=\"_blank\" href=https://colab.research.google.com/notebooks/data_table.ipynb>data table notebook</a>'\n",
              "            + ' to learn more about interactive tables.';\n",
              "          element.innerHTML = '';\n",
              "          dataTable['output_type'] = 'display_data';\n",
              "          await google.colab.output.renderOutput(dataTable, element);\n",
              "          const docLink = document.createElement('div');\n",
              "          docLink.innerHTML = docLinkHtml;\n",
              "          element.appendChild(docLink);\n",
              "        }\n",
              "      </script>\n",
              "    </div>\n",
              "  </div>\n"
            ],
            "text/plain": [
              "       loss  sparse_categorical_accuracy  val_loss  \\\n",
              "0  1.139446                     0.615066  0.782266   \n",
              "1  0.618180                     0.750784  0.651316   \n",
              "2  0.512814                     0.794255  0.563639   \n",
              "3  0.438311                     0.820878  0.670523   \n",
              "4  0.378437                     0.848702  0.601149   \n",
              "\n",
              "   val_sparse_categorical_accuracy  \n",
              "0                         0.690775  \n",
              "1                         0.737485  \n",
              "2                         0.771740  \n",
              "3                         0.746750  \n",
              "4                         0.770339  "
            ]
          },
          "execution_count": 18,
          "metadata": {},
          "output_type": "execute_result"
        }
      ],
      "source": [
        "# see model history (first five epoches)\n",
        "pd.DataFrame(history.history).head()"
      ]
    },
    {
      "cell_type": "code",
      "execution_count": null,
      "metadata": {
        "colab": {
          "background_save": true
        },
        "id": "P3U1F9HqCUrA",
        "outputId": "b3220358-3ca5-4409-fc97-bc0e47b4f178"
      },
      "outputs": [
        {
          "data": {
            "text/html": [
              "\n",
              "\n",
              "  <div id=\"df-b4d819b8-9759-4873-a514-8f579b6315ae\">\n",
              "    <div class=\"colab-df-container\">\n",
              "      <div>\n",
              "<style scoped>\n",
              "    .dataframe tbody tr th:only-of-type {\n",
              "        vertical-align: middle;\n",
              "    }\n",
              "\n",
              "    .dataframe tbody tr th {\n",
              "        vertical-align: top;\n",
              "    }\n",
              "\n",
              "    .dataframe thead th {\n",
              "        text-align: right;\n",
              "    }\n",
              "</style>\n",
              "<table border=\"1\" class=\"dataframe\">\n",
              "  <thead>\n",
              "    <tr style=\"text-align: right;\">\n",
              "      <th></th>\n",
              "      <th>loss</th>\n",
              "      <th>sparse_categorical_accuracy</th>\n",
              "      <th>val_loss</th>\n",
              "      <th>val_sparse_categorical_accuracy</th>\n",
              "    </tr>\n",
              "  </thead>\n",
              "  <tbody>\n",
              "    <tr>\n",
              "      <th>17</th>\n",
              "      <td>0.111520</td>\n",
              "      <td>0.959432</td>\n",
              "      <td>0.812053</td>\n",
              "      <td>0.800311</td>\n",
              "    </tr>\n",
              "    <tr>\n",
              "      <th>18</th>\n",
              "      <td>0.135323</td>\n",
              "      <td>0.950757</td>\n",
              "      <td>0.822554</td>\n",
              "      <td>0.804749</td>\n",
              "    </tr>\n",
              "    <tr>\n",
              "      <th>19</th>\n",
              "      <td>0.076122</td>\n",
              "      <td>0.972977</td>\n",
              "      <td>0.863118</td>\n",
              "      <td>0.803425</td>\n",
              "    </tr>\n",
              "    <tr>\n",
              "      <th>20</th>\n",
              "      <td>0.080874</td>\n",
              "      <td>0.970541</td>\n",
              "      <td>0.877004</td>\n",
              "      <td>0.806929</td>\n",
              "    </tr>\n",
              "    <tr>\n",
              "      <th>21</th>\n",
              "      <td>0.081434</td>\n",
              "      <td>0.972009</td>\n",
              "      <td>0.838639</td>\n",
              "      <td>0.801323</td>\n",
              "    </tr>\n",
              "  </tbody>\n",
              "</table>\n",
              "</div>\n",
              "      <button class=\"colab-df-convert\" onclick=\"convertToInteractive('df-b4d819b8-9759-4873-a514-8f579b6315ae')\"\n",
              "              title=\"Convert this dataframe to an interactive table.\"\n",
              "              style=\"display:none;\">\n",
              "\n",
              "  <svg xmlns=\"http://www.w3.org/2000/svg\" height=\"24px\"viewBox=\"0 0 24 24\"\n",
              "       width=\"24px\">\n",
              "    <path d=\"M0 0h24v24H0V0z\" fill=\"none\"/>\n",
              "    <path d=\"M18.56 5.44l.94 2.06.94-2.06 2.06-.94-2.06-.94-.94-2.06-.94 2.06-2.06.94zm-11 1L8.5 8.5l.94-2.06 2.06-.94-2.06-.94L8.5 2.5l-.94 2.06-2.06.94zm10 10l.94 2.06.94-2.06 2.06-.94-2.06-.94-.94-2.06-.94 2.06-2.06.94z\"/><path d=\"M17.41 7.96l-1.37-1.37c-.4-.4-.92-.59-1.43-.59-.52 0-1.04.2-1.43.59L10.3 9.45l-7.72 7.72c-.78.78-.78 2.05 0 2.83L4 21.41c.39.39.9.59 1.41.59.51 0 1.02-.2 1.41-.59l7.78-7.78 2.81-2.81c.8-.78.8-2.07 0-2.86zM5.41 20L4 18.59l7.72-7.72 1.47 1.35L5.41 20z\"/>\n",
              "  </svg>\n",
              "      </button>\n",
              "\n",
              "\n",
              "\n",
              "    <div id=\"df-0ed0652b-5f25-4c96-9978-7934394ad683\">\n",
              "      <button class=\"colab-df-quickchart\" onclick=\"quickchart('df-0ed0652b-5f25-4c96-9978-7934394ad683')\"\n",
              "              title=\"Suggest charts.\"\n",
              "              style=\"display:none;\">\n",
              "\n",
              "<svg xmlns=\"http://www.w3.org/2000/svg\" height=\"24px\"viewBox=\"0 0 24 24\"\n",
              "     width=\"24px\">\n",
              "    <g>\n",
              "        <path d=\"M19 3H5c-1.1 0-2 .9-2 2v14c0 1.1.9 2 2 2h14c1.1 0 2-.9 2-2V5c0-1.1-.9-2-2-2zM9 17H7v-7h2v7zm4 0h-2V7h2v10zm4 0h-2v-4h2v4z\"/>\n",
              "    </g>\n",
              "</svg>\n",
              "      </button>\n",
              "    </div>\n",
              "\n",
              "<style>\n",
              "  .colab-df-quickchart {\n",
              "    background-color: #E8F0FE;\n",
              "    border: none;\n",
              "    border-radius: 50%;\n",
              "    cursor: pointer;\n",
              "    display: none;\n",
              "    fill: #1967D2;\n",
              "    height: 32px;\n",
              "    padding: 0 0 0 0;\n",
              "    width: 32px;\n",
              "  }\n",
              "\n",
              "  .colab-df-quickchart:hover {\n",
              "    background-color: #E2EBFA;\n",
              "    box-shadow: 0px 1px 2px rgba(60, 64, 67, 0.3), 0px 1px 3px 1px rgba(60, 64, 67, 0.15);\n",
              "    fill: #174EA6;\n",
              "  }\n",
              "\n",
              "  [theme=dark] .colab-df-quickchart {\n",
              "    background-color: #3B4455;\n",
              "    fill: #D2E3FC;\n",
              "  }\n",
              "\n",
              "  [theme=dark] .colab-df-quickchart:hover {\n",
              "    background-color: #434B5C;\n",
              "    box-shadow: 0px 1px 3px 1px rgba(0, 0, 0, 0.15);\n",
              "    filter: drop-shadow(0px 1px 2px rgba(0, 0, 0, 0.3));\n",
              "    fill: #FFFFFF;\n",
              "  }\n",
              "</style>\n",
              "\n",
              "    <script>\n",
              "      async function quickchart(key) {\n",
              "        const containerElement = document.querySelector('#' + key);\n",
              "        const charts = await google.colab.kernel.invokeFunction(\n",
              "            'suggestCharts', [key], {});\n",
              "      }\n",
              "    </script>\n",
              "\n",
              "      <script>\n",
              "\n",
              "function displayQuickchartButton(domScope) {\n",
              "  let quickchartButtonEl =\n",
              "    domScope.querySelector('#df-0ed0652b-5f25-4c96-9978-7934394ad683 button.colab-df-quickchart');\n",
              "  quickchartButtonEl.style.display =\n",
              "    google.colab.kernel.accessAllowed ? 'block' : 'none';\n",
              "}\n",
              "\n",
              "        displayQuickchartButton(document);\n",
              "      </script>\n",
              "      <style>\n",
              "    .colab-df-container {\n",
              "      display:flex;\n",
              "      flex-wrap:wrap;\n",
              "      gap: 12px;\n",
              "    }\n",
              "\n",
              "    .colab-df-convert {\n",
              "      background-color: #E8F0FE;\n",
              "      border: none;\n",
              "      border-radius: 50%;\n",
              "      cursor: pointer;\n",
              "      display: none;\n",
              "      fill: #1967D2;\n",
              "      height: 32px;\n",
              "      padding: 0 0 0 0;\n",
              "      width: 32px;\n",
              "    }\n",
              "\n",
              "    .colab-df-convert:hover {\n",
              "      background-color: #E2EBFA;\n",
              "      box-shadow: 0px 1px 2px rgba(60, 64, 67, 0.3), 0px 1px 3px 1px rgba(60, 64, 67, 0.15);\n",
              "      fill: #174EA6;\n",
              "    }\n",
              "\n",
              "    [theme=dark] .colab-df-convert {\n",
              "      background-color: #3B4455;\n",
              "      fill: #D2E3FC;\n",
              "    }\n",
              "\n",
              "    [theme=dark] .colab-df-convert:hover {\n",
              "      background-color: #434B5C;\n",
              "      box-shadow: 0px 1px 3px 1px rgba(0, 0, 0, 0.15);\n",
              "      filter: drop-shadow(0px 1px 2px rgba(0, 0, 0, 0.3));\n",
              "      fill: #FFFFFF;\n",
              "    }\n",
              "  </style>\n",
              "\n",
              "      <script>\n",
              "        const buttonEl =\n",
              "          document.querySelector('#df-b4d819b8-9759-4873-a514-8f579b6315ae button.colab-df-convert');\n",
              "        buttonEl.style.display =\n",
              "          google.colab.kernel.accessAllowed ? 'block' : 'none';\n",
              "\n",
              "        async function convertToInteractive(key) {\n",
              "          const element = document.querySelector('#df-b4d819b8-9759-4873-a514-8f579b6315ae');\n",
              "          const dataTable =\n",
              "            await google.colab.kernel.invokeFunction('convertToInteractive',\n",
              "                                                     [key], {});\n",
              "          if (!dataTable) return;\n",
              "\n",
              "          const docLinkHtml = 'Like what you see? Visit the ' +\n",
              "            '<a target=\"_blank\" href=https://colab.research.google.com/notebooks/data_table.ipynb>data table notebook</a>'\n",
              "            + ' to learn more about interactive tables.';\n",
              "          element.innerHTML = '';\n",
              "          dataTable['output_type'] = 'display_data';\n",
              "          await google.colab.output.renderOutput(dataTable, element);\n",
              "          const docLink = document.createElement('div');\n",
              "          docLink.innerHTML = docLinkHtml;\n",
              "          element.appendChild(docLink);\n",
              "        }\n",
              "      </script>\n",
              "    </div>\n",
              "  </div>\n"
            ],
            "text/plain": [
              "        loss  sparse_categorical_accuracy  val_loss  \\\n",
              "17  0.111520                     0.959432  0.812053   \n",
              "18  0.135323                     0.950757  0.822554   \n",
              "19  0.076122                     0.972977  0.863118   \n",
              "20  0.080874                     0.970541  0.877004   \n",
              "21  0.081434                     0.972009  0.838639   \n",
              "\n",
              "    val_sparse_categorical_accuracy  \n",
              "17                         0.800311  \n",
              "18                         0.804749  \n",
              "19                         0.803425  \n",
              "20                         0.806929  \n",
              "21                         0.801323  "
            ]
          },
          "execution_count": 19,
          "metadata": {},
          "output_type": "execute_result"
        }
      ],
      "source": [
        "# see model history (last five epoches)\n",
        "pd.DataFrame(history.history).tail()"
      ]
    },
    {
      "cell_type": "code",
      "execution_count": null,
      "metadata": {
        "colab": {
          "background_save": true
        },
        "id": "pixhzmGfavfw",
        "outputId": "f9641901-7119-4673-9df5-135cd68cbb92"
      },
      "outputs": [
        {
          "data": {
            "image/png": "[encoded data removed]",
            "text/plain": [
              "<Figure size 640x480 with 1 Axes>"
            ]
          },
          "metadata": {},
          "output_type": "display_data"
        }
      ],
      "source": [
        "# make plot training accuracy and validation accuracy\n",
        "pd.DataFrame(history.history)[['sparse_categorical_accuracy','val_sparse_categorical_accuracy']].plot(marker='.')# make plot\n",
        "plt.grid(),plt.title('Training Accuracy'),plt.xlabel('epochs'),plt.ylabel('accuracy')# add grid, title and axis labels\n",
        "plt.show()                                                                      # make plot show"
      ]
    },
    {
      "cell_type": "code",
      "execution_count": null,
      "metadata": {
        "colab": {
          "background_save": true
        },
        "id": "w_kWRnCFayt8",
        "outputId": "9b3acb74-4d70-4a9b-aafb-2b5551a3fe34"
      },
      "outputs": [
        {
          "data": {
            "image/png": "[encoded data removed]",
            "text/plain": [
              "<Figure size 640x480 with 1 Axes>"
            ]
          },
          "metadata": {},
          "output_type": "display_data"
        }
      ],
      "source": [
        "# make plot training losses and validation losses\n",
        "pd.DataFrame(history.history)[['loss','val_loss']].plot(marker='.')             # make plot\n",
        "plt.grid(),plt.title('Training Losses'),plt.xlabel('epochs'),plt.ylabel('loss') # add grid, title and axis labels\n",
        "plt.show()                                                                      # make plot show"
      ]
    },
    {
      "cell_type": "code",
      "execution_count": null,
      "metadata": {
        "colab": {
          "background_save": true
        },
        "id": "igU0IUjma1U6",
        "outputId": "61836cce-cb92-4493-d02e-71f2f9a029ad"
      },
      "outputs": [
        {
          "name": "stdout",
          "output_type": "stream",
          "text": [
            "46/46 [==============================] - 22s 447ms/step - loss: 0.7573 - sparse_categorical_accuracy: 0.8245\n",
            "Testing results: {'loss': 0.7572985887527466, 'sparse_categorical_accuracy': 0.8244897723197937}\n"
          ]
        }
      ],
      "source": [
        "# evaluate model\n",
        "results=model.evaluate(test,batch_size=None,verbose=\"auto\",sample_weight=None,return_dict=True)\n",
        "print('Testing results:',results)                                               # make print results"
      ]
    },
    {
      "cell_type": "code",
      "execution_count": null,
      "metadata": {
        "colab": {
          "background_save": true
        },
        "id": "71zr4gdra3um",
        "outputId": "5f9db3e8-d7ed-470f-c421-7ef9bd1427ae"
      },
      "outputs": [
        {
          "name": "stderr",
          "output_type": "stream",
          "text": [
            "WARNING:absl:Found untraced functions such as _jit_compiled_convolution_op, _jit_compiled_convolution_op, _jit_compiled_convolution_op, _jit_compiled_convolution_op, _jit_compiled_convolution_op while saving (showing 5 of 13). These functions will not be directly callable after loading.\n"
          ]
        }
      ],
      "source": [
        "# make save model (weights and configuration)\n",
        "model.save('augumented_data_classifier',overwrite=True,save_format=None)               # make save"
      ]
    },
    {
      "cell_type": "code",
      "execution_count": null,
      "metadata": {
        "id": "sgcXF1ArbBQp"
      },
      "outputs": [],
      "source": [
        "!zip -r -qq \"augumented_data.zip\" \"augumented_data_classifier\"                     # make zip model\n",
        "# make auto download model weights\n",
        "from google.colab import files                                                  # load file class\n",
        "files.download('augumented_data.zip')                                       # download model zip file"
      ]
    },
    {
      "cell_type": "code",
      "execution_count": null,
      "metadata": {
        "id": "ohYEVis2bYai"
      },
      "outputs": [],
      "source": []
    }
  ],
  "metadata": {
    "accelerator": "GPU",
    "colab": {
      "provenance": []
    },
    "kernelspec": {
      "display_name": "Python 3",
      "name": "python3"
    },
    "language_info": {
      "name": "python"
    }
  },
  "nbformat": 4,
  "nbformat_minor": 0
}
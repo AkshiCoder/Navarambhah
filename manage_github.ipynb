{
  "nbformat": 4,
  "nbformat_minor": 0,
  "metadata": {
    "colab": {
      "provenance": []
    },
    "kernelspec": {
      "name": "python3",
      "display_name": "Python 3"
    },
    "language_info": {
      "name": "python"
    }
  },
  "cells": [
    {
      "cell_type": "code",
      "execution_count": 1,
      "metadata": {
        "colab": {
          "base_uri": "https://localhost:8080/"
        },
        "id": "BccWLVgPAsZs",
        "outputId": "21398f8a-3362-44e8-d2e3-717f29770657"
      },
      "outputs": [
        {
          "output_type": "stream",
          "name": "stdout",
          "text": [
            "\u001b[2K     \u001b[90m━━━━━━━━━━━━━━━━━━━━━━━━━━━━━━━━━━━━━━━\u001b[0m \u001b[32m188.5/188.5 kB\u001b[0m \u001b[31m3.7 MB/s\u001b[0m eta \u001b[36m0:00:00\u001b[0m\n",
            "\u001b[?25h  Preparing metadata (setup.py) ... \u001b[?25l\u001b[?25hdone\n",
            "\u001b[2K     \u001b[90m━━━━━━━━━━━━━━━━━━━━━━━━━━━━━━━━━━━━━━━━\u001b[0m \u001b[32m62.7/62.7 kB\u001b[0m \u001b[31m7.9 MB/s\u001b[0m eta \u001b[36m0:00:00\u001b[0m\n",
            "\u001b[?25h  Building wheel for wget (setup.py) ... \u001b[?25l\u001b[?25hdone\n",
            "/content/Navarambhah\n",
            "* \u001b[32mmain\u001b[m\n",
            "  \u001b[31mremotes/origin/HEAD\u001b[m -> origin/main\n",
            "  \u001b[31mremotes/origin/Semantic-segmentation-using-satellite-imagery\u001b[m\n",
            "  \u001b[31mremotes/origin/ai-snake-game\u001b[m\n",
            "  \u001b[31mremotes/origin/brain-tumour-classification-n-detection\u001b[m\n",
            "  \u001b[31mremotes/origin/cards_detection\u001b[m\n",
            "  \u001b[31mremotes/origin/ct-kidney-normal-cyst-tumor-and-stone-classification\u001b[m\n",
            "  \u001b[31mremotes/origin/disease-classifier\u001b[m\n",
            "  \u001b[31mremotes/origin/eye-disease-classifiaction\u001b[m\n",
            "  \u001b[31mremotes/origin/food-classification\u001b[m\n",
            "  \u001b[31mremotes/origin/games-classification\u001b[m\n",
            "  \u001b[31mremotes/origin/main\u001b[m\n",
            "  \u001b[31mremotes/origin/multi-disease-classification\u001b[m\n",
            "  \u001b[31mremotes/origin/plant-disease\u001b[m\n",
            "  \u001b[31mremotes/origin/pneumonia-detection\u001b[m\n",
            "  \u001b[31mremotes/origin/rock-paper-scissor-game\u001b[m\n",
            "  \u001b[31mremotes/origin/rps-v2\u001b[m\n",
            "  \u001b[31mremotes/origin/sports-classification\u001b[m\n",
            "  \u001b[31mremotes/origin/text-object-detection\u001b[m\n",
            "  \u001b[31mremotes/origin/traffic-sigh-classification\u001b[m\n",
            "  \u001b[31mremotes/origin/vedaNetra\u001b[m\n",
            "21\n",
            "/content\n"
          ]
        }
      ],
      "source": [
        "!python -m pip install -qq gitpython wget                                       # install git - python and wget\n",
        "# remove sample data and cloning directory if already present\n",
        "!rm -Rf \"sample_data\" \"Navarambhah\"\n",
        "!git clone -qq \"https://github.com/MegaCreater-Projects/Navarambhah.git\"        # clone repository\n",
        "# move into repository\n",
        "%cd Navarambhah\n",
        "!git fetch                                                                      # fetch info\n",
        "!git branch --all                                                               # print all branch\n",
        "!git branch --all | wc -l                                                       # print total branches (-2)\n",
        "# `wc -l`: This command counts the number of lines in the output, count will be two more\n",
        "%cd /content\n",
        "# Note: change directory command not work with not operator or with %%bash ...."
      ]
    },
    {
      "cell_type": "code",
      "source": [
        "import sys                                                                      # sys — System-specific parameters and functions\n",
        "import os                                                                       # os — Miscellaneous operating system interfaces\n",
        "import shutil                                                                   # shutil — High-level file operations\n",
        "import glob                                                                     # glob — Unix style pathname pattern expansion\n",
        "import wget                                                                     # source: https://pypi.org/project/wget/\n",
        "# pure python download utility of linux command `wget`\n",
        "if sys.version_info>=(3,6):import zipfile                                       # load for python given python version\n",
        "else:import zipfile36 as zipfile                                                # else load zipfile36 , source: https://pypi.org/project/zipfile36/\n",
        "# read and write ZIP files - backport of the zipfile module from Python 3.6\n",
        "from git import Repo                                                            # load Repo class\n",
        "try:                                                                            # try to list out all\n",
        "  user_name:str='MegaCreater-Projects'                                          # user name\n",
        "  repo_name:str='Navarambhah'                                                   # get repository name\n",
        "  repo=Repo(repo_name)                                                          # make repository object\n",
        "  branches:list=[branch for branch in repo.branches]                            # get main branchs\n",
        "  remotes:list=[remote for remote in repo.remotes.origin.refs]                  # unmerge side (remote) branches\n",
        "  all_branches=branches+remotes                                                 # add both\n",
        "except Exception as e:                                                          # except error\n",
        "  print(f'Fail to list branches. Error: {e}')                                   # make pring error\n",
        "for index,branch in enumerate(all_branches):print(f'{index}: {branch}')         # make print all pranches\n",
        "assert len(all_branches)==len(set(all_branches)),'Branches have same name!'     # each branch must have unique name"
      ],
      "metadata": {
        "colab": {
          "base_uri": "https://localhost:8080/"
        },
        "id": "09H_yK_lDF2K",
        "outputId": "55be1cb9-fdd2-4eec-e170-5db7fff24748"
      },
      "execution_count": 2,
      "outputs": [
        {
          "output_type": "stream",
          "name": "stdout",
          "text": [
            "0: main\n",
            "1: origin/HEAD\n",
            "2: origin/Semantic-segmentation-using-satellite-imagery\n",
            "3: origin/ai-snake-game\n",
            "4: origin/brain-tumour-classification-n-detection\n",
            "5: origin/cards_detection\n",
            "6: origin/ct-kidney-normal-cyst-tumor-and-stone-classification\n",
            "7: origin/disease-classifier\n",
            "8: origin/eye-disease-classifiaction\n",
            "9: origin/food-classification\n",
            "10: origin/games-classification\n",
            "11: origin/main\n",
            "12: origin/multi-disease-classification\n",
            "13: origin/plant-disease\n",
            "14: origin/pneumonia-detection\n",
            "15: origin/rock-paper-scissor-game\n",
            "16: origin/rps-v2\n",
            "17: origin/sports-classification\n",
            "18: origin/text-object-detection\n",
            "19: origin/traffic-sigh-classification\n",
            "20: origin/vedaNetra\n"
          ]
        }
      ]
    },
    {
      "cell_type": "code",
      "source": [
        "# make download all branches as zip and unzip them into repository folder\n",
        "for index,branch in enumerate(all_branches):                                    # get a branch name\n",
        "  # make check if name start with 'origin' and not have 'main' or 'HEAD' in it (or ends with it)\n",
        "  if str(branch).startswith('origin/') and not str(branch).endswith('/main') and not str(branch).endswith('/HEAD'):# check condition\n",
        "    print(f'{index}: {branch}'.ljust(75),'downloading zip ...',end=' ')         # make print info\n",
        "    try:                                                                        # make try to download repo branch\n",
        "      url:str=f'https://codeload.github.com/{user_name}/{repo_name}/zip/refs/heads/{str(branch).split(\"/\",1)[-1]}'# make branch address\n",
        "      downloaded_file_address:str=wget.download(url,os.path.join(repo_name,str(branch).split(\"/\",1)[-1]),bar=None)# download branch zip\n",
        "      print('done! unzipping ...',end=' ')                                      # print info\n",
        "      with zipfile.ZipFile(downloaded_file_address,mode='r') as zip_reference:  # get zip file object\n",
        "        zip_reference.extractall(repo_name)                                     # make unzip file to repository folder\n",
        "        extracted_files:list=zip_reference.namelist()                           # get list of all zip files\n",
        "      os.remove(downloaded_file_address)                                        # delete zip file\n",
        "      # setup address (name) of sub branch\n",
        "      sub_branch_address:str=os.path.join(os.path.dirname(downloaded_file_address),os.path.basename(downloaded_file_address).casefold())\n",
        "      os.rename(os.path.join(repo_name,extracted_files[0]),sub_branch_address)  # rename file folder with repository name\n",
        "      if glob.glob(os.path.join(sub_branch_address,'*','LICENSE')):             # make upgrade \"LICENSE\" file, if found\n",
        "        if len(glob.glob(os.path.join(sub_branch_address,'*','LICENSE')))==1:   # if only single file found then only to move\n",
        "          shutil.move(glob.glob(os.path.join(sub_branch_address,'*','LICENSE'))[0],os.path.join(sub_branch_address,'LICENSE'))# move and overwrite\n",
        "        else:print('Failed to Update \"LICENSE\" (multiple files found error)...',end=' ')# print if \"LICENSE\" file not found\n",
        "      else:print('Failed to Update \"LICENSE\" (file NOT found error)...',end=' ')# print if \"LICENSE\" file not found\n",
        "      # get \"README.md\" file address (either \"readme.md\" or \"README.md\")\n",
        "      readme_list:list=glob.glob(os.path.join(sub_branch_address,'*','readme*'))+glob.glob(os.path.join(sub_branch_address,'*','README*'))\n",
        "      if readme_list:                                                           # make upgrade \"README.md\" file, if found\n",
        "        if len(readme_list)==1:                                                 # if only single file found then only to move\n",
        "          shutil.move(readme_list[0],os.path.join(sub_branch_address,'README.md'))# move and overwrite\n",
        "        else:print('Failed to Update \"README.md\" (multiple files found error)...',end=' ')# print if \"README.md\" file not found\n",
        "      else:print('Failed to Update \"README.md\" (file NOT found error)...',end=' ')# print if \"LICENSE\" file not found\n",
        "      print('done! All done ... ')                                              # make print info\n",
        "    except Exception as error:print(f'X - Failed. Error : {error}')             # if error occured\n",
        "  else:print(f'{index}: {branch}'.ljust(100),'X - Failed condition NOT applied!')# if branch download failed"
      ],
      "metadata": {
        "colab": {
          "base_uri": "https://localhost:8080/"
        },
        "id": "3PT32YgcXku6",
        "outputId": "a583934b-01af-4dc0-f04c-1bf37c678acb"
      },
      "execution_count": 3,
      "outputs": [
        {
          "output_type": "stream",
          "name": "stdout",
          "text": [
            "0: main                                                                                              X - Failed condition NOT applied!\n",
            "1: origin/HEAD                                                                                       X - Failed condition NOT applied!\n",
            "2: origin/Semantic-segmentation-using-satellite-imagery                     downloading zip ... done! unzipping ... done! All done ... \n",
            "3: origin/ai-snake-game                                                     downloading zip ... done! unzipping ... Failed to Update \"LICENSE\" (file NOT found error)... done! All done ... \n",
            "4: origin/brain-tumour-classification-n-detection                           downloading zip ... done! unzipping ... Failed to Update \"README.md\" (file NOT found error)... done! All done ... \n",
            "5: origin/cards_detection                                                   downloading zip ... done! unzipping ... Failed to Update \"LICENSE\" (file NOT found error)... Failed to Update \"README.md\" (file NOT found error)... done! All done ... \n",
            "6: origin/ct-kidney-normal-cyst-tumor-and-stone-classification              downloading zip ... done! unzipping ... Failed to Update \"LICENSE\" (file NOT found error)... done! All done ... \n",
            "7: origin/disease-classifier                                                downloading zip ... done! unzipping ... Failed to Update \"LICENSE\" (file NOT found error)... done! All done ... \n",
            "8: origin/eye-disease-classifiaction                                        downloading zip ... done! unzipping ... Failed to Update \"LICENSE\" (file NOT found error)... Failed to Update \"README.md\" (file NOT found error)... done! All done ... \n",
            "9: origin/food-classification                                               downloading zip ... done! unzipping ... Failed to Update \"LICENSE\" (file NOT found error)... done! All done ... \n",
            "10: origin/games-classification                                             downloading zip ... done! unzipping ... Failed to Update \"LICENSE\" (file NOT found error)... Failed to Update \"README.md\" (multiple files found error)... done! All done ... \n",
            "11: origin/main                                                                                      X - Failed condition NOT applied!\n",
            "12: origin/multi-disease-classification                                     downloading zip ... done! unzipping ... Failed to Update \"LICENSE\" (file NOT found error)... Failed to Update \"README.md\" (file NOT found error)... done! All done ... \n",
            "13: origin/plant-disease                                                    downloading zip ... done! unzipping ... Failed to Update \"LICENSE\" (file NOT found error)... Failed to Update \"README.md\" (file NOT found error)... done! All done ... \n",
            "14: origin/pneumonia-detection                                              downloading zip ... done! unzipping ... Failed to Update \"LICENSE\" (file NOT found error)... done! All done ... \n",
            "15: origin/rock-paper-scissor-game                                          downloading zip ... done! unzipping ... Failed to Update \"LICENSE\" (file NOT found error)... done! All done ... \n",
            "16: origin/rps-v2                                                           downloading zip ... done! unzipping ... Failed to Update \"LICENSE\" (file NOT found error)... Failed to Update \"README.md\" (file NOT found error)... done! All done ... \n",
            "17: origin/sports-classification                                            downloading zip ... done! unzipping ... Failed to Update \"LICENSE\" (file NOT found error)... Failed to Update \"README.md\" (file NOT found error)... done! All done ... \n",
            "18: origin/text-object-detection                                            downloading zip ... done! unzipping ... Failed to Update \"LICENSE\" (file NOT found error)... done! All done ... \n",
            "19: origin/traffic-sigh-classification                                      downloading zip ... done! unzipping ... Failed to Update \"LICENSE\" (file NOT found error)... done! All done ... \n",
            "20: origin/vedaNetra                                                        downloading zip ... done! unzipping ... Failed to Update \"LICENSE\" (multiple files found error)... Failed to Update \"README.md\" (multiple files found error)... done! All done ... \n"
          ]
        }
      ]
    },
    {
      "cell_type": "code",
      "source": [
        "!git config --global user.name \"MegaCreater\"\n",
        "!git config --global user.email \"a.ver.archit@gmail.com\"\n",
        "%cd \"Navarambhah\"\n",
        "#!git init\n",
        "!git status\n",
        "!git add .\n",
        "!git remote remove origin\n",
        "!git remote add origin \"https://<token>@github.com/MegaCreater/Navarambhah.git\"\n",
        "!git commit -m \"Initial commit\"\n",
        "!git branch -M main\n",
        "!git push -u origin main\n",
        "%cd \"/content\""
      ],
      "metadata": {
        "colab": {
          "base_uri": "https://localhost:8080/"
        },
        "id": "saHxi3XdB3Wb",
        "outputId": "fa4f39fa-bfd9-4c6c-f5e5-409d7458e188"
      },
      "execution_count": 6,
      "outputs": [
        {
          "output_type": "stream",
          "name": "stdout",
          "text": [
            "/content/Navarambhah\n",
            "On branch main\n",
            "nothing to commit, working tree clean\n",
            "On branch main\n",
            "nothing to commit, working tree clean\n",
            "fatal: unable to access 'https://github.com@github.com/MegaCreater/Navarambhah.git/': URL using bad/illegal format or missing URL\n",
            "/content\n"
          ]
        }
      ]
    },
    {
      "cell_type": "markdown",
      "source": [
        "**Create a new repository on the command line**\n",
        "```shell\n",
        "echo \"# Navarambhah\" >> README.md\n",
        "git init\n",
        "git add README.md\n",
        "git commit -m \"first commit\"\n",
        "git branch -M main\n",
        "git remote add origin https://github.com/MegaCreater/Navarambhah.git\n",
        "git push -u origin main\n",
        "```\n",
        "\n",
        "**Push an existing repository from the command line**\n",
        "```shell\n",
        "git remote add origin https://github.com/MegaCreater/Navarambhah.git\n",
        "git branch -M main\n",
        "git push -u origin main\n",
        "```"
      ],
      "metadata": {
        "id": "VDIcz-V8Fl6a"
      }
    },
    {
      "cell_type": "code",
      "source": [
        "# %cd \"Navarambhah\"\n",
        "# !git remote remove origin\n",
        "# !git remote add origin \"https://<token>@github.com/MegaCreater/Navarambhah.git\"\n",
        "# !git commit -m \"Initial commit\"\n",
        "# !git branch -M main\n",
        "# !git push -u origin main\n",
        "# %cd \"/content\""
      ],
      "metadata": {
        "colab": {
          "base_uri": "https://localhost:8080/"
        },
        "id": "y88RVgL4DfUv",
        "outputId": "9c21f49e-9b18-4ebb-dd9e-8ab979f1aac5"
      },
      "execution_count": 7,
      "outputs": [
        {
          "output_type": "stream",
          "name": "stdout",
          "text": [
            "/content/Navarambhah\n",
            "On branch main\n",
            "nothing to commit, working tree clean\n",
            "Enumerating objects: 332, done.\n",
            "Counting objects: 100% (332/332), done.\n",
            "Delta compression using up to 2 threads\n",
            "Compressing objects: 100% (259/259), done.\n",
            "Writing objects: 100% (332/332), 123.77 MiB | 58.73 MiB/s, done.\n",
            "Total 332 (delta 59), reused 293 (delta 56), pack-reused 0\n",
            "remote: Resolving deltas: 100% (59/59), done.\u001b[K\n",
            "remote: \u001b[1;33mwarning\u001b[m: See https://gh.io/lfs for more information.\u001b[K\n",
            "remote: \u001b[1;33mwarning\u001b[m: File brain-tumour-classification-n-detection/brain_tumor_classification/training_ model/variables/variables.data-00000-of-00001 is 50.91 MB; this is larger than GitHub's recommended maximum file size of 50.00 MB\u001b[K\n",
            "remote: \u001b[1;33mwarning\u001b[m: GH001: Large files detected. You may want to try Git Large File Storage - https://git-lfs.github.com.\u001b[K\n",
            "To https://github.com/MegaCreater/Navarambhah.git\n",
            " * [new branch]      main -> main\n",
            "Branch 'main' set up to track remote branch 'main' from 'origin'.\n",
            "/content\n"
          ]
        }
      ]
    }
  ]
}